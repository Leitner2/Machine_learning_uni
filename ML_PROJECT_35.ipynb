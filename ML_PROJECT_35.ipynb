{
 "cells": [
  {
   "cell_type": "markdown",
   "metadata": {},
   "source": [
    "# Machine Learning Project - Group 35"
   ]
  },
  {
   "cell_type": "markdown",
   "metadata": {},
   "source": [
    "Netanel Shahsa , Barel Lanciano , Yonatan Leitner"
   ]
  },
  {
   "cell_type": "code",
   "execution_count": 1,
   "metadata": {},
   "outputs": [],
   "source": [
    "# Import libraries : \n",
    "import pandas as pd\n",
    "import matplotlib.pyplot as plt #Visualization package.\n",
    "import seaborn as sns\n",
    "import numpy as np\n",
    "#import missingno as msno\n",
    "from scipy.stats import norm\n",
    "from sklearn.preprocessing import StandardScaler\n",
    "from sklearn import preprocessing\n",
    "from scipy import stats\n",
    "from sklearn.decomposition import PCA\n",
    "from sklearn.discriminant_analysis import LinearDiscriminantAnalysis\n",
    "from sklearn import neighbors, datasets\n",
    "from sklearn.model_selection import train_test_split\n",
    "from sklearn.preprocessing import MinMaxScaler\n",
    "from sklearn.model_selection import KFold\n",
    "from sklearn.metrics import confusion_matrix\n",
    "from sklearn.base import BaseEstimator, TransformerMixin\n",
    "\n",
    "from sklearn.naive_bayes import GaussianNB\n",
    "from sklearn.linear_model import LogisticRegression \n",
    "from sklearn.neural_network import MLPClassifier, MLPRegressor\n",
    "from sklearn.tree import DecisionTreeClassifier\n",
    "from sklearn import neighbors, datasets\n",
    "\n",
    "from sklearn.metrics import roc_curve\n",
    "from sklearn.metrics import auc\n",
    "\n",
    "\n",
    "from sklearn.model_selection import cross_val_score, ShuffleSplit\n",
    "from scipy import interpolate\n",
    "from scipy.interpolate import interp1d\n",
    "from IPython.display import Markdown, display\n",
    "import warnings\n",
    "warnings.filterwarnings('ignore')\n",
    "%matplotlib inline\n",
    "\n",
    "from sklearn.model_selection import GridSearchCV\n",
    "from sklearn.preprocessing import label_binarize"
   ]
  },
  {
   "cell_type": "code",
   "execution_count": 2,
   "metadata": {},
   "outputs": [],
   "source": [
    "total_train = pd.read_csv('C:\\\\Users\\\\netanel\\\\Desktop\\\\train.csv')"
   ]
  },
  {
   "cell_type": "markdown",
   "metadata": {},
   "source": [
    "#  Part A - Data Exploration\n",
    "We would like to explore our data, find out how its behaving and what type of information we can mine throw the diffrent column "
   ]
  },
  {
   "cell_type": "code",
   "execution_count": 3,
   "metadata": {},
   "outputs": [
    {
     "data": {
      "text/plain": [
       "(21931, 22)"
      ]
     },
     "execution_count": 3,
     "metadata": {},
     "output_type": "execute_result"
    }
   ],
   "source": [
    "total_train.shape"
   ]
  },
  {
   "cell_type": "code",
   "execution_count": 4,
   "metadata": {},
   "outputs": [
    {
     "data": {
      "text/html": [
       "<div>\n",
       "<style scoped>\n",
       "    .dataframe tbody tr th:only-of-type {\n",
       "        vertical-align: middle;\n",
       "    }\n",
       "\n",
       "    .dataframe tbody tr th {\n",
       "        vertical-align: top;\n",
       "    }\n",
       "\n",
       "    .dataframe thead th {\n",
       "        text-align: right;\n",
       "    }\n",
       "</style>\n",
       "<table border=\"1\" class=\"dataframe\">\n",
       "  <thead>\n",
       "    <tr style=\"text-align: right;\">\n",
       "      <th></th>\n",
       "      <th>0</th>\n",
       "      <th>1</th>\n",
       "      <th>2</th>\n",
       "      <th>3</th>\n",
       "      <th>4</th>\n",
       "      <th>5</th>\n",
       "      <th>6</th>\n",
       "      <th>7</th>\n",
       "      <th>8</th>\n",
       "      <th>9</th>\n",
       "      <th>...</th>\n",
       "      <th>12</th>\n",
       "      <th>13</th>\n",
       "      <th>14</th>\n",
       "      <th>15</th>\n",
       "      <th>16</th>\n",
       "      <th>17</th>\n",
       "      <th>18</th>\n",
       "      <th>19</th>\n",
       "      <th>20</th>\n",
       "      <th>label</th>\n",
       "    </tr>\n",
       "  </thead>\n",
       "  <tbody>\n",
       "    <tr>\n",
       "      <th>0</th>\n",
       "      <td>1.0</td>\n",
       "      <td>a</td>\n",
       "      <td>-1d</td>\n",
       "      <td>0.828866</td>\n",
       "      <td>216.0</td>\n",
       "      <td>4.846091</td>\n",
       "      <td>K</td>\n",
       "      <td>50.0</td>\n",
       "      <td>0</td>\n",
       "      <td>161.714226</td>\n",
       "      <td>...</td>\n",
       "      <td>n</td>\n",
       "      <td>2.0</td>\n",
       "      <td>414.0</td>\n",
       "      <td>0.0</td>\n",
       "      <td>S</td>\n",
       "      <td>2.191401</td>\n",
       "      <td>a8</td>\n",
       "      <td>NaN</td>\n",
       "      <td>15.921017</td>\n",
       "      <td>1</td>\n",
       "    </tr>\n",
       "    <tr>\n",
       "      <th>1</th>\n",
       "      <td>8.0</td>\n",
       "      <td>a</td>\n",
       "      <td>-1d</td>\n",
       "      <td>8.981168</td>\n",
       "      <td>46.0</td>\n",
       "      <td>7.324911</td>\n",
       "      <td>A</td>\n",
       "      <td>270.0</td>\n",
       "      <td>0</td>\n",
       "      <td>328.559850</td>\n",
       "      <td>...</td>\n",
       "      <td>n</td>\n",
       "      <td>3.0</td>\n",
       "      <td>63.0</td>\n",
       "      <td>0.0</td>\n",
       "      <td>M</td>\n",
       "      <td>3.811778</td>\n",
       "      <td>a8</td>\n",
       "      <td>NaN</td>\n",
       "      <td>47.567140</td>\n",
       "      <td>0</td>\n",
       "    </tr>\n",
       "    <tr>\n",
       "      <th>2</th>\n",
       "      <td>1.0</td>\n",
       "      <td>a</td>\n",
       "      <td>-1d</td>\n",
       "      <td>1.458061</td>\n",
       "      <td>3304.0</td>\n",
       "      <td>7.548887</td>\n",
       "      <td>D</td>\n",
       "      <td>200.0</td>\n",
       "      <td>1</td>\n",
       "      <td>298.775554</td>\n",
       "      <td>...</td>\n",
       "      <td>n</td>\n",
       "      <td>1.0</td>\n",
       "      <td>218.0</td>\n",
       "      <td>0.0</td>\n",
       "      <td>M</td>\n",
       "      <td>4.284457</td>\n",
       "      <td>a4</td>\n",
       "      <td>NaN</td>\n",
       "      <td>10.522228</td>\n",
       "      <td>0</td>\n",
       "    </tr>\n",
       "    <tr>\n",
       "      <th>3</th>\n",
       "      <td>1.0</td>\n",
       "      <td>b</td>\n",
       "      <td>-1d</td>\n",
       "      <td>2.753682</td>\n",
       "      <td>212.0</td>\n",
       "      <td>8.200746</td>\n",
       "      <td>E</td>\n",
       "      <td>170.0</td>\n",
       "      <td>0</td>\n",
       "      <td>285.342907</td>\n",
       "      <td>...</td>\n",
       "      <td>y</td>\n",
       "      <td>2.0</td>\n",
       "      <td>NaN</td>\n",
       "      <td>0.0</td>\n",
       "      <td>D</td>\n",
       "      <td>4.680751</td>\n",
       "      <td>a7</td>\n",
       "      <td>NaN</td>\n",
       "      <td>21.185050</td>\n",
       "      <td>0</td>\n",
       "    </tr>\n",
       "    <tr>\n",
       "      <th>4</th>\n",
       "      <td>1.0</td>\n",
       "      <td>unknown</td>\n",
       "      <td>-1d</td>\n",
       "      <td>4.496872</td>\n",
       "      <td>1050.0</td>\n",
       "      <td>5.071094</td>\n",
       "      <td>B</td>\n",
       "      <td>260.0</td>\n",
       "      <td>1</td>\n",
       "      <td>328.464688</td>\n",
       "      <td>...</td>\n",
       "      <td>n</td>\n",
       "      <td>3.0</td>\n",
       "      <td>293.0</td>\n",
       "      <td>0.0</td>\n",
       "      <td>S</td>\n",
       "      <td>2.740114</td>\n",
       "      <td>a5</td>\n",
       "      <td>NaN</td>\n",
       "      <td>47.491164</td>\n",
       "      <td>0</td>\n",
       "    </tr>\n",
       "  </tbody>\n",
       "</table>\n",
       "<p>5 rows × 22 columns</p>\n",
       "</div>"
      ],
      "text/plain": [
       "     0        1    2         3       4         5  6      7  8           9  \\\n",
       "0  1.0        a  -1d  0.828866   216.0  4.846091  K   50.0  0  161.714226   \n",
       "1  8.0        a  -1d  8.981168    46.0  7.324911  A  270.0  0  328.559850   \n",
       "2  1.0        a  -1d  1.458061  3304.0  7.548887  D  200.0  1  298.775554   \n",
       "3  1.0        b  -1d  2.753682   212.0  8.200746  E  170.0  0  285.342907   \n",
       "4  1.0  unknown  -1d  4.496872  1050.0  5.071094  B  260.0  1  328.464688   \n",
       "\n",
       "   ...  12   13     14   15  16        17  18   19         20 label  \n",
       "0  ...   n  2.0  414.0  0.0   S  2.191401  a8  NaN  15.921017     1  \n",
       "1  ...   n  3.0   63.0  0.0   M  3.811778  a8  NaN  47.567140     0  \n",
       "2  ...   n  1.0  218.0  0.0   M  4.284457  a4  NaN  10.522228     0  \n",
       "3  ...   y  2.0    NaN  0.0   D  4.680751  a7  NaN  21.185050     0  \n",
       "4  ...   n  3.0  293.0  0.0   S  2.740114  a5  NaN  47.491164     0  \n",
       "\n",
       "[5 rows x 22 columns]"
      ]
     },
     "execution_count": 4,
     "metadata": {},
     "output_type": "execute_result"
    }
   ],
   "source": [
    "total_train.head(5)"
   ]
  },
  {
   "cell_type": "code",
   "execution_count": 5,
   "metadata": {},
   "outputs": [
    {
     "data": {
      "text/html": [
       "<div>\n",
       "<style scoped>\n",
       "    .dataframe tbody tr th:only-of-type {\n",
       "        vertical-align: middle;\n",
       "    }\n",
       "\n",
       "    .dataframe tbody tr th {\n",
       "        vertical-align: top;\n",
       "    }\n",
       "\n",
       "    .dataframe thead th {\n",
       "        text-align: right;\n",
       "    }\n",
       "</style>\n",
       "<table border=\"1\" class=\"dataframe\">\n",
       "  <thead>\n",
       "    <tr style=\"text-align: right;\">\n",
       "      <th></th>\n",
       "      <th>0</th>\n",
       "      <th>1</th>\n",
       "      <th>2</th>\n",
       "      <th>3</th>\n",
       "      <th>4</th>\n",
       "      <th>5</th>\n",
       "      <th>6</th>\n",
       "      <th>7</th>\n",
       "      <th>8</th>\n",
       "      <th>9</th>\n",
       "      <th>...</th>\n",
       "      <th>12</th>\n",
       "      <th>13</th>\n",
       "      <th>14</th>\n",
       "      <th>15</th>\n",
       "      <th>16</th>\n",
       "      <th>17</th>\n",
       "      <th>18</th>\n",
       "      <th>19</th>\n",
       "      <th>20</th>\n",
       "      <th>label</th>\n",
       "    </tr>\n",
       "  </thead>\n",
       "  <tbody>\n",
       "    <tr>\n",
       "      <th>21926</th>\n",
       "      <td>1.0</td>\n",
       "      <td>unknown</td>\n",
       "      <td>-1d</td>\n",
       "      <td>9.234068</td>\n",
       "      <td>228.0</td>\n",
       "      <td>6.497949</td>\n",
       "      <td>G</td>\n",
       "      <td>200.0</td>\n",
       "      <td>1</td>\n",
       "      <td>298.387445</td>\n",
       "      <td>...</td>\n",
       "      <td>n</td>\n",
       "      <td>2.0</td>\n",
       "      <td>257.0</td>\n",
       "      <td>0.0</td>\n",
       "      <td>S</td>\n",
       "      <td>3.036520</td>\n",
       "      <td>a5</td>\n",
       "      <td>NaN</td>\n",
       "      <td>23.647446</td>\n",
       "      <td>0</td>\n",
       "    </tr>\n",
       "    <tr>\n",
       "      <th>21927</th>\n",
       "      <td>3.0</td>\n",
       "      <td>a</td>\n",
       "      <td>202d</td>\n",
       "      <td>1.425130</td>\n",
       "      <td>829.0</td>\n",
       "      <td>4.459834</td>\n",
       "      <td>K</td>\n",
       "      <td>270.0</td>\n",
       "      <td>0</td>\n",
       "      <td>330.998210</td>\n",
       "      <td>...</td>\n",
       "      <td>n</td>\n",
       "      <td>0.0</td>\n",
       "      <td>196.0</td>\n",
       "      <td>0.0</td>\n",
       "      <td>S</td>\n",
       "      <td>2.108740</td>\n",
       "      <td>a1</td>\n",
       "      <td>B</td>\n",
       "      <td>17.079316</td>\n",
       "      <td>1</td>\n",
       "    </tr>\n",
       "    <tr>\n",
       "      <th>21928</th>\n",
       "      <td>1.0</td>\n",
       "      <td>a</td>\n",
       "      <td>-1d</td>\n",
       "      <td>7.656161</td>\n",
       "      <td>296.0</td>\n",
       "      <td>6.688392</td>\n",
       "      <td>A</td>\n",
       "      <td>80.0</td>\n",
       "      <td>1</td>\n",
       "      <td>210.458322</td>\n",
       "      <td>...</td>\n",
       "      <td>n</td>\n",
       "      <td>3.0</td>\n",
       "      <td>NaN</td>\n",
       "      <td>0.0</td>\n",
       "      <td>M</td>\n",
       "      <td>4.083415</td>\n",
       "      <td>a5</td>\n",
       "      <td>NaN</td>\n",
       "      <td>26.412485</td>\n",
       "      <td>0</td>\n",
       "    </tr>\n",
       "    <tr>\n",
       "      <th>21929</th>\n",
       "      <td>2.0</td>\n",
       "      <td>unknown</td>\n",
       "      <td>-1d</td>\n",
       "      <td>4.016924</td>\n",
       "      <td>57.0</td>\n",
       "      <td>5.486059</td>\n",
       "      <td>B</td>\n",
       "      <td>90.0</td>\n",
       "      <td>1</td>\n",
       "      <td>220.485053</td>\n",
       "      <td>...</td>\n",
       "      <td>n</td>\n",
       "      <td>2.0</td>\n",
       "      <td>404.0</td>\n",
       "      <td>0.0</td>\n",
       "      <td>S</td>\n",
       "      <td>2.587831</td>\n",
       "      <td>a5</td>\n",
       "      <td>NaN</td>\n",
       "      <td>-2.056748</td>\n",
       "      <td>0</td>\n",
       "    </tr>\n",
       "    <tr>\n",
       "      <th>21930</th>\n",
       "      <td>1.0</td>\n",
       "      <td>a</td>\n",
       "      <td>-1d</td>\n",
       "      <td>1.026590</td>\n",
       "      <td>54.0</td>\n",
       "      <td>6.392427</td>\n",
       "      <td>G</td>\n",
       "      <td>100.0</td>\n",
       "      <td>1</td>\n",
       "      <td>231.026258</td>\n",
       "      <td>...</td>\n",
       "      <td>n</td>\n",
       "      <td>2.0</td>\n",
       "      <td>NaN</td>\n",
       "      <td>0.0</td>\n",
       "      <td>M</td>\n",
       "      <td>3.535312</td>\n",
       "      <td>a7</td>\n",
       "      <td>NaN</td>\n",
       "      <td>44.396488</td>\n",
       "      <td>0</td>\n",
       "    </tr>\n",
       "  </tbody>\n",
       "</table>\n",
       "<p>5 rows × 22 columns</p>\n",
       "</div>"
      ],
      "text/plain": [
       "         0        1     2         3      4         5  6      7  8           9  \\\n",
       "21926  1.0  unknown   -1d  9.234068  228.0  6.497949  G  200.0  1  298.387445   \n",
       "21927  3.0        a  202d  1.425130  829.0  4.459834  K  270.0  0  330.998210   \n",
       "21928  1.0        a   -1d  7.656161  296.0  6.688392  A   80.0  1  210.458322   \n",
       "21929  2.0  unknown   -1d  4.016924   57.0  5.486059  B   90.0  1  220.485053   \n",
       "21930  1.0        a   -1d  1.026590   54.0  6.392427  G  100.0  1  231.026258   \n",
       "\n",
       "       ...  12   13     14   15  16        17  18   19         20 label  \n",
       "21926  ...   n  2.0  257.0  0.0   S  3.036520  a5  NaN  23.647446     0  \n",
       "21927  ...   n  0.0  196.0  0.0   S  2.108740  a1    B  17.079316     1  \n",
       "21928  ...   n  3.0    NaN  0.0   M  4.083415  a5  NaN  26.412485     0  \n",
       "21929  ...   n  2.0  404.0  0.0   S  2.587831  a5  NaN  -2.056748     0  \n",
       "21930  ...   n  2.0    NaN  0.0   M  3.535312  a7  NaN  44.396488     0  \n",
       "\n",
       "[5 rows x 22 columns]"
      ]
     },
     "execution_count": 5,
     "metadata": {},
     "output_type": "execute_result"
    }
   ],
   "source": [
    "total_train.tail(5)"
   ]
  },
  {
   "cell_type": "markdown",
   "metadata": {},
   "source": [
    "we can see that our data is mainly integer type although in some areas we can notice that its string in multi variant form"
   ]
  },
  {
   "cell_type": "code",
   "execution_count": 6,
   "metadata": {},
   "outputs": [
    {
     "data": {
      "text/plain": [
       "0        float64\n",
       "1         object\n",
       "2         object\n",
       "3        float64\n",
       "4        float64\n",
       "5        float64\n",
       "6         object\n",
       "7        float64\n",
       "8          int64\n",
       "9        float64\n",
       "10       float64\n",
       "11       float64\n",
       "12        object\n",
       "13       float64\n",
       "14       float64\n",
       "15       float64\n",
       "16        object\n",
       "17       float64\n",
       "18        object\n",
       "19        object\n",
       "20       float64\n",
       "label      int64\n",
       "dtype: object"
      ]
     },
     "execution_count": 6,
     "metadata": {},
     "output_type": "execute_result"
    }
   ],
   "source": [
    "total_train.dtypes"
   ]
  },
  {
   "cell_type": "code",
   "execution_count": 7,
   "metadata": {},
   "outputs": [
    {
     "data": {
      "text/html": [
       "<div>\n",
       "<style scoped>\n",
       "    .dataframe tbody tr th:only-of-type {\n",
       "        vertical-align: middle;\n",
       "    }\n",
       "\n",
       "    .dataframe tbody tr th {\n",
       "        vertical-align: top;\n",
       "    }\n",
       "\n",
       "    .dataframe thead th {\n",
       "        text-align: right;\n",
       "    }\n",
       "</style>\n",
       "<table border=\"1\" class=\"dataframe\">\n",
       "  <thead>\n",
       "    <tr style=\"text-align: right;\">\n",
       "      <th></th>\n",
       "      <th>0</th>\n",
       "      <th>3</th>\n",
       "      <th>4</th>\n",
       "      <th>5</th>\n",
       "      <th>7</th>\n",
       "      <th>8</th>\n",
       "      <th>9</th>\n",
       "      <th>10</th>\n",
       "      <th>11</th>\n",
       "      <th>13</th>\n",
       "      <th>14</th>\n",
       "      <th>15</th>\n",
       "      <th>17</th>\n",
       "      <th>20</th>\n",
       "      <th>label</th>\n",
       "    </tr>\n",
       "  </thead>\n",
       "  <tbody>\n",
       "    <tr>\n",
       "      <th>count</th>\n",
       "      <td>21856.000000</td>\n",
       "      <td>21824.000000</td>\n",
       "      <td>21904.000000</td>\n",
       "      <td>21869.000000</td>\n",
       "      <td>21909.000000</td>\n",
       "      <td>21929.000000</td>\n",
       "      <td>21890.000000</td>\n",
       "      <td>21826.000000</td>\n",
       "      <td>21858.000000</td>\n",
       "      <td>21889.000000</td>\n",
       "      <td>17945.000000</td>\n",
       "      <td>21830.000000</td>\n",
       "      <td>21828.000000</td>\n",
       "      <td>21928.000000</td>\n",
       "      <td>21929.000000</td>\n",
       "    </tr>\n",
       "    <tr>\n",
       "      <th>mean</th>\n",
       "      <td>2.709553</td>\n",
       "      <td>4.204270</td>\n",
       "      <td>1383.377831</td>\n",
       "      <td>6.589995</td>\n",
       "      <td>157.456296</td>\n",
       "      <td>0.542387</td>\n",
       "      <td>256.620494</td>\n",
       "      <td>0.608220</td>\n",
       "      <td>268.833568</td>\n",
       "      <td>2.063822</td>\n",
       "      <td>276.014879</td>\n",
       "      <td>0.017316</td>\n",
       "      <td>3.648025</td>\n",
       "      <td>26.279353</td>\n",
       "      <td>0.178440</td>\n",
       "    </tr>\n",
       "    <tr>\n",
       "      <th>std</th>\n",
       "      <td>2.976490</td>\n",
       "      <td>3.752897</td>\n",
       "      <td>3030.199398</td>\n",
       "      <td>0.921675</td>\n",
       "      <td>83.123296</td>\n",
       "      <td>0.498211</td>\n",
       "      <td>71.638059</td>\n",
       "      <td>1.893147</td>\n",
       "      <td>183.956108</td>\n",
       "      <td>0.784240</td>\n",
       "      <td>274.581411</td>\n",
       "      <td>0.130448</td>\n",
       "      <td>0.746277</td>\n",
       "      <td>20.110854</td>\n",
       "      <td>0.382891</td>\n",
       "    </tr>\n",
       "    <tr>\n",
       "      <th>min</th>\n",
       "      <td>1.000000</td>\n",
       "      <td>-11.138786</td>\n",
       "      <td>-8019.000000</td>\n",
       "      <td>3.776680</td>\n",
       "      <td>10.000000</td>\n",
       "      <td>0.000000</td>\n",
       "      <td>-1.892158</td>\n",
       "      <td>0.000000</td>\n",
       "      <td>0.003898</td>\n",
       "      <td>0.000000</td>\n",
       "      <td>0.000000</td>\n",
       "      <td>0.000000</td>\n",
       "      <td>1.939095</td>\n",
       "      <td>-54.438941</td>\n",
       "      <td>0.000000</td>\n",
       "    </tr>\n",
       "    <tr>\n",
       "      <th>25%</th>\n",
       "      <td>1.000000</td>\n",
       "      <td>1.605676</td>\n",
       "      <td>80.000000</td>\n",
       "      <td>5.901414</td>\n",
       "      <td>80.000000</td>\n",
       "      <td>0.000000</td>\n",
       "      <td>209.751756</td>\n",
       "      <td>0.000000</td>\n",
       "      <td>119.314177</td>\n",
       "      <td>2.000000</td>\n",
       "      <td>108.000000</td>\n",
       "      <td>0.000000</td>\n",
       "      <td>3.036520</td>\n",
       "      <td>12.680446</td>\n",
       "      <td>0.000000</td>\n",
       "    </tr>\n",
       "    <tr>\n",
       "      <th>50%</th>\n",
       "      <td>2.000000</td>\n",
       "      <td>4.191035</td>\n",
       "      <td>470.000000</td>\n",
       "      <td>6.517201</td>\n",
       "      <td>160.000000</td>\n",
       "      <td>1.000000</td>\n",
       "      <td>277.790810</td>\n",
       "      <td>0.000000</td>\n",
       "      <td>242.057624</td>\n",
       "      <td>2.000000</td>\n",
       "      <td>191.000000</td>\n",
       "      <td>0.000000</td>\n",
       "      <td>3.535312</td>\n",
       "      <td>26.477637</td>\n",
       "      <td>0.000000</td>\n",
       "    </tr>\n",
       "    <tr>\n",
       "      <th>75%</th>\n",
       "      <td>3.000000</td>\n",
       "      <td>6.811616</td>\n",
       "      <td>1473.000000</td>\n",
       "      <td>7.246245</td>\n",
       "      <td>210.000000</td>\n",
       "      <td>1.000000</td>\n",
       "      <td>306.592449</td>\n",
       "      <td>0.000000</td>\n",
       "      <td>388.786445</td>\n",
       "      <td>3.000000</td>\n",
       "      <td>342.000000</td>\n",
       "      <td>0.000000</td>\n",
       "      <td>4.150667</td>\n",
       "      <td>39.944291</td>\n",
       "      <td>0.000000</td>\n",
       "    </tr>\n",
       "    <tr>\n",
       "      <th>max</th>\n",
       "      <td>51.000000</td>\n",
       "      <td>17.647593</td>\n",
       "      <td>102127.000000</td>\n",
       "      <td>10.303540</td>\n",
       "      <td>310.000000</td>\n",
       "      <td>1.000000</td>\n",
       "      <td>347.191571</td>\n",
       "      <td>41.000000</td>\n",
       "      <td>1081.031042</td>\n",
       "      <td>3.000000</td>\n",
       "      <td>4918.000000</td>\n",
       "      <td>1.000000</td>\n",
       "      <td>7.141043</td>\n",
       "      <td>102.590418</td>\n",
       "      <td>1.000000</td>\n",
       "    </tr>\n",
       "  </tbody>\n",
       "</table>\n",
       "</div>"
      ],
      "text/plain": [
       "                  0             3              4             5             7  \\\n",
       "count  21856.000000  21824.000000   21904.000000  21869.000000  21909.000000   \n",
       "mean       2.709553      4.204270    1383.377831      6.589995    157.456296   \n",
       "std        2.976490      3.752897    3030.199398      0.921675     83.123296   \n",
       "min        1.000000    -11.138786   -8019.000000      3.776680     10.000000   \n",
       "25%        1.000000      1.605676      80.000000      5.901414     80.000000   \n",
       "50%        2.000000      4.191035     470.000000      6.517201    160.000000   \n",
       "75%        3.000000      6.811616    1473.000000      7.246245    210.000000   \n",
       "max       51.000000     17.647593  102127.000000     10.303540    310.000000   \n",
       "\n",
       "                  8             9            10            11            13  \\\n",
       "count  21929.000000  21890.000000  21826.000000  21858.000000  21889.000000   \n",
       "mean       0.542387    256.620494      0.608220    268.833568      2.063822   \n",
       "std        0.498211     71.638059      1.893147    183.956108      0.784240   \n",
       "min        0.000000     -1.892158      0.000000      0.003898      0.000000   \n",
       "25%        0.000000    209.751756      0.000000    119.314177      2.000000   \n",
       "50%        1.000000    277.790810      0.000000    242.057624      2.000000   \n",
       "75%        1.000000    306.592449      0.000000    388.786445      3.000000   \n",
       "max        1.000000    347.191571     41.000000   1081.031042      3.000000   \n",
       "\n",
       "                 14            15            17            20         label  \n",
       "count  17945.000000  21830.000000  21828.000000  21928.000000  21929.000000  \n",
       "mean     276.014879      0.017316      3.648025     26.279353      0.178440  \n",
       "std      274.581411      0.130448      0.746277     20.110854      0.382891  \n",
       "min        0.000000      0.000000      1.939095    -54.438941      0.000000  \n",
       "25%      108.000000      0.000000      3.036520     12.680446      0.000000  \n",
       "50%      191.000000      0.000000      3.535312     26.477637      0.000000  \n",
       "75%      342.000000      0.000000      4.150667     39.944291      0.000000  \n",
       "max     4918.000000      1.000000      7.141043    102.590418      1.000000  "
      ]
     },
     "execution_count": 7,
     "metadata": {},
     "output_type": "execute_result"
    }
   ],
   "source": [
    "total_train[0:-2].describe()"
   ]
  },
  {
   "cell_type": "markdown",
   "metadata": {},
   "source": [
    "we cam spot that column 19 has high percent of missing value. we will adress it in the next step."
   ]
  },
  {
   "cell_type": "code",
   "execution_count": 8,
   "metadata": {},
   "outputs": [
    {
     "data": {
      "text/html": [
       "<div>\n",
       "<style scoped>\n",
       "    .dataframe tbody tr th:only-of-type {\n",
       "        vertical-align: middle;\n",
       "    }\n",
       "\n",
       "    .dataframe tbody tr th {\n",
       "        vertical-align: top;\n",
       "    }\n",
       "\n",
       "    .dataframe thead th {\n",
       "        text-align: right;\n",
       "    }\n",
       "</style>\n",
       "<table border=\"1\" class=\"dataframe\">\n",
       "  <thead>\n",
       "    <tr style=\"text-align: right;\">\n",
       "      <th></th>\n",
       "      <th>Total</th>\n",
       "      <th>Percent</th>\n",
       "    </tr>\n",
       "  </thead>\n",
       "  <tbody>\n",
       "    <tr>\n",
       "      <th>19</th>\n",
       "      <td>17681</td>\n",
       "      <td>0.806210</td>\n",
       "    </tr>\n",
       "    <tr>\n",
       "      <th>14</th>\n",
       "      <td>3985</td>\n",
       "      <td>0.181706</td>\n",
       "    </tr>\n",
       "    <tr>\n",
       "      <th>6</th>\n",
       "      <td>145</td>\n",
       "      <td>0.006612</td>\n",
       "    </tr>\n",
       "    <tr>\n",
       "      <th>3</th>\n",
       "      <td>105</td>\n",
       "      <td>0.004788</td>\n",
       "    </tr>\n",
       "    <tr>\n",
       "      <th>10</th>\n",
       "      <td>103</td>\n",
       "      <td>0.004697</td>\n",
       "    </tr>\n",
       "    <tr>\n",
       "      <th>17</th>\n",
       "      <td>101</td>\n",
       "      <td>0.004605</td>\n",
       "    </tr>\n",
       "    <tr>\n",
       "      <th>15</th>\n",
       "      <td>99</td>\n",
       "      <td>0.004514</td>\n",
       "    </tr>\n",
       "    <tr>\n",
       "      <th>1</th>\n",
       "      <td>89</td>\n",
       "      <td>0.004058</td>\n",
       "    </tr>\n",
       "    <tr>\n",
       "      <th>18</th>\n",
       "      <td>84</td>\n",
       "      <td>0.003830</td>\n",
       "    </tr>\n",
       "    <tr>\n",
       "      <th>0</th>\n",
       "      <td>73</td>\n",
       "      <td>0.003329</td>\n",
       "    </tr>\n",
       "    <tr>\n",
       "      <th>11</th>\n",
       "      <td>71</td>\n",
       "      <td>0.003237</td>\n",
       "    </tr>\n",
       "    <tr>\n",
       "      <th>5</th>\n",
       "      <td>60</td>\n",
       "      <td>0.002736</td>\n",
       "    </tr>\n",
       "    <tr>\n",
       "      <th>2</th>\n",
       "      <td>56</td>\n",
       "      <td>0.002553</td>\n",
       "    </tr>\n",
       "    <tr>\n",
       "      <th>13</th>\n",
       "      <td>40</td>\n",
       "      <td>0.001824</td>\n",
       "    </tr>\n",
       "    <tr>\n",
       "      <th>9</th>\n",
       "      <td>39</td>\n",
       "      <td>0.001778</td>\n",
       "    </tr>\n",
       "    <tr>\n",
       "      <th>4</th>\n",
       "      <td>25</td>\n",
       "      <td>0.001140</td>\n",
       "    </tr>\n",
       "    <tr>\n",
       "      <th>7</th>\n",
       "      <td>20</td>\n",
       "      <td>0.000912</td>\n",
       "    </tr>\n",
       "    <tr>\n",
       "      <th>12</th>\n",
       "      <td>13</td>\n",
       "      <td>0.000593</td>\n",
       "    </tr>\n",
       "    <tr>\n",
       "      <th>16</th>\n",
       "      <td>10</td>\n",
       "      <td>0.000456</td>\n",
       "    </tr>\n",
       "    <tr>\n",
       "      <th>20</th>\n",
       "      <td>1</td>\n",
       "      <td>0.000046</td>\n",
       "    </tr>\n",
       "    <tr>\n",
       "      <th>8</th>\n",
       "      <td>0</td>\n",
       "      <td>0.000000</td>\n",
       "    </tr>\n",
       "    <tr>\n",
       "      <th>label</th>\n",
       "      <td>0</td>\n",
       "      <td>0.000000</td>\n",
       "    </tr>\n",
       "  </tbody>\n",
       "</table>\n",
       "</div>"
      ],
      "text/plain": [
       "       Total   Percent\n",
       "19     17681  0.806210\n",
       "14      3985  0.181706\n",
       "6        145  0.006612\n",
       "3        105  0.004788\n",
       "10       103  0.004697\n",
       "17       101  0.004605\n",
       "15        99  0.004514\n",
       "1         89  0.004058\n",
       "18        84  0.003830\n",
       "0         73  0.003329\n",
       "11        71  0.003237\n",
       "5         60  0.002736\n",
       "2         56  0.002553\n",
       "13        40  0.001824\n",
       "9         39  0.001778\n",
       "4         25  0.001140\n",
       "7         20  0.000912\n",
       "12        13  0.000593\n",
       "16        10  0.000456\n",
       "20         1  0.000046\n",
       "8          0  0.000000\n",
       "label      0  0.000000"
      ]
     },
     "execution_count": 8,
     "metadata": {},
     "output_type": "execute_result"
    }
   ],
   "source": [
    "total_missing_cheack = total_train.isnull().sum().sort_values(ascending=False)\n",
    "percent_of_missing_data = (total_train.isnull().sum()/total_train.isnull().count()).sort_values(ascending=False)\n",
    "missing_data = pd.concat([total_missing_cheack, percent_of_missing_data], axis=1, keys=['Total', 'Percent'])\n",
    "missing_data"
   ]
  },
  {
   "cell_type": "code",
   "execution_count": 9,
   "metadata": {},
   "outputs": [
    {
     "name": "stdout",
     "output_type": "stream",
     "text": [
      "sum      colum name\n"
     ]
    },
    {
     "data": {
      "text/plain": [
       "0           73\n",
       "1           89\n",
       "2           56\n",
       "3          105\n",
       "4           25\n",
       "5           60\n",
       "6          145\n",
       "7           20\n",
       "8            0\n",
       "9           39\n",
       "10         103\n",
       "11          71\n",
       "12          13\n",
       "13          40\n",
       "14        3985\n",
       "15          99\n",
       "16          10\n",
       "17         101\n",
       "18          84\n",
       "19       17681\n",
       "20           1\n",
       "label        0\n",
       "dtype: int64"
      ]
     },
     "execution_count": 9,
     "metadata": {},
     "output_type": "execute_result"
    }
   ],
   "source": [
    "print(\"sum      colum name\")\n",
    "total_train.isnull().sum()"
   ]
  },
  {
   "cell_type": "code",
   "execution_count": 10,
   "metadata": {},
   "outputs": [
    {
     "data": {
      "image/png": "[encoded data removed]",
      "text/plain": [
       "<Figure size 432x288 with 1 Axes>"
      ]
     },
     "metadata": {
      "needs_background": "light"
     },
     "output_type": "display_data"
    },
    {
     "data": {
      "image/png": "[encoded data removed]",
      "text/plain": [
       "<Figure size 432x288 with 1 Axes>"
      ]
     },
     "metadata": {
      "needs_background": "light"
     },
     "output_type": "display_data"
    },
    {
     "data": {
      "image/png": "[encoded data removed]",
      "text/plain": [
       "<Figure size 432x288 with 1 Axes>"
      ]
     },
     "metadata": {
      "needs_background": "light"
     },
     "output_type": "display_data"
    },
    {
     "data": {
      "image/png": "[encoded data removed]",
      "text/plain": [
       "<Figure size 432x288 with 1 Axes>"
      ]
     },
     "metadata": {
      "needs_background": "light"
     },
     "output_type": "display_data"
    },
    {
     "data": {
      "image/png": "[encoded data removed]",
      "text/plain": [
       "<Figure size 432x288 with 1 Axes>"
      ]
     },
     "metadata": {
      "needs_background": "light"
     },
     "output_type": "display_data"
    },
    {
     "data": {
      "image/png": "[encoded data removed]",
      "text/plain": [
       "<Figure size 432x288 with 1 Axes>"
      ]
     },
     "metadata": {
      "needs_background": "light"
     },
     "output_type": "display_data"
    },
    {
     "data": {
      "image/png": "[encoded data removed]",
      "text/plain": [
       "<Figure size 432x288 with 1 Axes>"
      ]
     },
     "metadata": {
      "needs_background": "light"
     },
     "output_type": "display_data"
    }
   ],
   "source": [
    "for col in total_train.loc[:, total_train.dtypes == np.object].columns.tolist():  #find all columns how are non-numeric\n",
    "    total_train[col].value_counts().plot.barh()\n",
    "    plt.title(\"For col num: %s\" %col)\n",
    "    plt.show()"
   ]
  },
  {
   "cell_type": "code",
   "execution_count": 11,
   "metadata": {},
   "outputs": [
    {
     "data": {
      "image/png": "[encoded data removed]",
      "text/plain": [
       "<Figure size 432x288 with 1 Axes>"
      ]
     },
     "metadata": {
      "needs_background": "light"
     },
     "output_type": "display_data"
    },
    {
     "data": {
      "image/png": "[encoded data removed]",
      "text/plain": [
       "<Figure size 432x288 with 1 Axes>"
      ]
     },
     "metadata": {
      "needs_background": "light"
     },
     "output_type": "display_data"
    },
    {
     "data": {
      "image/png": "[encoded data removed]",
      "text/plain": [
       "<Figure size 432x288 with 1 Axes>"
      ]
     },
     "metadata": {
      "needs_background": "light"
     },
     "output_type": "display_data"
    },
    {
     "data": {
      "image/png": "[encoded data removed]",
      "text/plain": [
       "<Figure size 432x288 with 1 Axes>"
      ]
     },
     "metadata": {
      "needs_background": "light"
     },
     "output_type": "display_data"
    },
    {
     "data": {
      "image/png": "[encoded data removed]",
      "text/plain": [
       "<Figure size 432x288 with 1 Axes>"
      ]
     },
     "metadata": {
      "needs_background": "light"
     },
     "output_type": "display_data"
    },
    {
     "data": {
      "image/png": "[encoded data removed]",
      "text/plain": [
       "<Figure size 432x288 with 1 Axes>"
      ]
     },
     "metadata": {
      "needs_background": "light"
     },
     "output_type": "display_data"
    },
    {
     "data": {
      "image/png": "[encoded data removed]",
      "text/plain": [
       "<Figure size 432x288 with 1 Axes>"
      ]
     },
     "metadata": {
      "needs_background": "light"
     },
     "output_type": "display_data"
    },
    {
     "data": {
      "image/png": "[encoded data removed]",
      "text/plain": [
       "<Figure size 432x288 with 1 Axes>"
      ]
     },
     "metadata": {
      "needs_background": "light"
     },
     "output_type": "display_data"
    },
    {
     "data": {
      "image/png": "[encoded data removed]",
      "text/plain": [
       "<Figure size 432x288 with 1 Axes>"
      ]
     },
     "metadata": {
      "needs_background": "light"
     },
     "output_type": "display_data"
    },
    {
     "data": {
      "image/png": "[encoded data removed]",
      "text/plain": [
       "<Figure size 432x288 with 1 Axes>"
      ]
     },
     "metadata": {
      "needs_background": "light"
     },
     "output_type": "display_data"
    },
    {
     "data": {
      "image/png": "[encoded data removed]",
      "text/plain": [
       "<Figure size 432x288 with 1 Axes>"
      ]
     },
     "metadata": {
      "needs_background": "light"
     },
     "output_type": "display_data"
    },
    {
     "data": {
      "image/png": "[encoded data removed]",
      "text/plain": [
       "<Figure size 432x288 with 1 Axes>"
      ]
     },
     "metadata": {
      "needs_background": "light"
     },
     "output_type": "display_data"
    },
    {
     "data": {
      "image/png": "[encoded data removed]",
      "text/plain": [
       "<Figure size 432x288 with 1 Axes>"
      ]
     },
     "metadata": {
      "needs_background": "light"
     },
     "output_type": "display_data"
    }
   ],
   "source": [
    "for col in total_train.loc[:, total_train.dtypes == np.float64].columns.tolist():  #find all columns how are non-numeric\n",
    "    plt.figure(col)\n",
    "    plt.title(\" For col name: %s\" %col)\n",
    "    sns.distplot(total_train[col])"
   ]
  },
  {
   "cell_type": "markdown",
   "metadata": {},
   "source": []
  },
  {
   "cell_type": "markdown",
   "metadata": {},
   "source": [
    "we can spot that there our few columns with high correlation factor , like 7' and 9'"
   ]
  },
  {
   "cell_type": "code",
   "execution_count": 12,
   "metadata": {},
   "outputs": [
    {
     "data": {
      "image/png": "[encoded data removed]",
      "text/plain": [
       "<Figure size 432x288 with 1 Axes>"
      ]
     },
     "metadata": {
      "needs_background": "light"
     },
     "output_type": "display_data"
    }
   ],
   "source": [
    "total_train[0:-1].plot.area(stacked=False);"
   ]
  },
  {
   "cell_type": "code",
   "execution_count": 13,
   "metadata": {},
   "outputs": [
    {
     "data": {
      "text/html": [
       "<div>\n",
       "<style scoped>\n",
       "    .dataframe tbody tr th:only-of-type {\n",
       "        vertical-align: middle;\n",
       "    }\n",
       "\n",
       "    .dataframe tbody tr th {\n",
       "        vertical-align: top;\n",
       "    }\n",
       "\n",
       "    .dataframe thead th {\n",
       "        text-align: right;\n",
       "    }\n",
       "</style>\n",
       "<table border=\"1\" class=\"dataframe\">\n",
       "  <thead>\n",
       "    <tr style=\"text-align: right;\">\n",
       "      <th></th>\n",
       "      <th>0</th>\n",
       "      <th>3</th>\n",
       "      <th>4</th>\n",
       "      <th>5</th>\n",
       "      <th>7</th>\n",
       "      <th>8</th>\n",
       "      <th>9</th>\n",
       "      <th>10</th>\n",
       "      <th>11</th>\n",
       "      <th>13</th>\n",
       "      <th>14</th>\n",
       "      <th>15</th>\n",
       "      <th>17</th>\n",
       "      <th>20</th>\n",
       "      <th>label</th>\n",
       "    </tr>\n",
       "  </thead>\n",
       "  <tbody>\n",
       "    <tr>\n",
       "      <th>0</th>\n",
       "      <td>1.000000</td>\n",
       "      <td>0.090564</td>\n",
       "      <td>-0.016967</td>\n",
       "      <td>0.009964</td>\n",
       "      <td>0.148854</td>\n",
       "      <td>-0.016146</td>\n",
       "      <td>0.125903</td>\n",
       "      <td>-0.040795</td>\n",
       "      <td>0.067913</td>\n",
       "      <td>-0.004287</td>\n",
       "      <td>-0.088212</td>\n",
       "      <td>0.021060</td>\n",
       "      <td>0.013737</td>\n",
       "      <td>0.009342</td>\n",
       "      <td>-0.088982</td>\n",
       "    </tr>\n",
       "    <tr>\n",
       "      <th>3</th>\n",
       "      <td>0.090564</td>\n",
       "      <td>1.000000</td>\n",
       "      <td>0.008787</td>\n",
       "      <td>-0.005487</td>\n",
       "      <td>0.595225</td>\n",
       "      <td>-0.010804</td>\n",
       "      <td>0.559471</td>\n",
       "      <td>-0.036505</td>\n",
       "      <td>0.235581</td>\n",
       "      <td>0.020109</td>\n",
       "      <td>-0.006195</td>\n",
       "      <td>0.007360</td>\n",
       "      <td>-0.009694</td>\n",
       "      <td>-0.003220</td>\n",
       "      <td>-0.015600</td>\n",
       "    </tr>\n",
       "    <tr>\n",
       "      <th>4</th>\n",
       "      <td>-0.016967</td>\n",
       "      <td>0.008787</td>\n",
       "      <td>1.000000</td>\n",
       "      <td>0.079775</td>\n",
       "      <td>0.010736</td>\n",
       "      <td>-0.070730</td>\n",
       "      <td>0.012900</td>\n",
       "      <td>0.023810</td>\n",
       "      <td>-0.016112</td>\n",
       "      <td>0.066848</td>\n",
       "      <td>0.019207</td>\n",
       "      <td>-0.065642</td>\n",
       "      <td>0.089116</td>\n",
       "      <td>0.004001</td>\n",
       "      <td>0.062469</td>\n",
       "    </tr>\n",
       "    <tr>\n",
       "      <th>5</th>\n",
       "      <td>0.009964</td>\n",
       "      <td>-0.005487</td>\n",
       "      <td>0.079775</td>\n",
       "      <td>1.000000</td>\n",
       "      <td>-0.011275</td>\n",
       "      <td>-0.158702</td>\n",
       "      <td>-0.009352</td>\n",
       "      <td>0.002224</td>\n",
       "      <td>-0.012126</td>\n",
       "      <td>-0.156433</td>\n",
       "      <td>-0.002931</td>\n",
       "      <td>-0.021401</td>\n",
       "      <td>0.900337</td>\n",
       "      <td>0.033696</td>\n",
       "      <td>0.011840</td>\n",
       "    </tr>\n",
       "    <tr>\n",
       "      <th>7</th>\n",
       "      <td>0.148854</td>\n",
       "      <td>0.595225</td>\n",
       "      <td>0.010736</td>\n",
       "      <td>-0.011275</td>\n",
       "      <td>1.000000</td>\n",
       "      <td>-0.027526</td>\n",
       "      <td>0.934719</td>\n",
       "      <td>-0.057871</td>\n",
       "      <td>0.408754</td>\n",
       "      <td>0.020601</td>\n",
       "      <td>-0.015932</td>\n",
       "      <td>0.002894</td>\n",
       "      <td>-0.012857</td>\n",
       "      <td>-0.000478</td>\n",
       "      <td>-0.029494</td>\n",
       "    </tr>\n",
       "    <tr>\n",
       "      <th>8</th>\n",
       "      <td>-0.016146</td>\n",
       "      <td>-0.010804</td>\n",
       "      <td>-0.070730</td>\n",
       "      <td>-0.158702</td>\n",
       "      <td>-0.027526</td>\n",
       "      <td>1.000000</td>\n",
       "      <td>0.004297</td>\n",
       "      <td>0.033749</td>\n",
       "      <td>-0.017673</td>\n",
       "      <td>-0.047802</td>\n",
       "      <td>-0.001613</td>\n",
       "      <td>-0.001384</td>\n",
       "      <td>-0.183501</td>\n",
       "      <td>-0.011306</td>\n",
       "      <td>-0.165548</td>\n",
       "    </tr>\n",
       "    <tr>\n",
       "      <th>9</th>\n",
       "      <td>0.125903</td>\n",
       "      <td>0.559471</td>\n",
       "      <td>0.012900</td>\n",
       "      <td>-0.009352</td>\n",
       "      <td>0.934719</td>\n",
       "      <td>0.004297</td>\n",
       "      <td>1.000000</td>\n",
       "      <td>-0.049853</td>\n",
       "      <td>0.346862</td>\n",
       "      <td>0.007414</td>\n",
       "      <td>-0.007818</td>\n",
       "      <td>0.000099</td>\n",
       "      <td>-0.011786</td>\n",
       "      <td>-0.002989</td>\n",
       "      <td>-0.043236</td>\n",
       "    </tr>\n",
       "    <tr>\n",
       "      <th>10</th>\n",
       "      <td>-0.040795</td>\n",
       "      <td>-0.036505</td>\n",
       "      <td>0.023810</td>\n",
       "      <td>0.002224</td>\n",
       "      <td>-0.057871</td>\n",
       "      <td>0.033749</td>\n",
       "      <td>-0.049853</td>\n",
       "      <td>1.000000</td>\n",
       "      <td>-0.026031</td>\n",
       "      <td>0.035655</td>\n",
       "      <td>0.000129</td>\n",
       "      <td>-0.024436</td>\n",
       "      <td>0.002636</td>\n",
       "      <td>-0.005110</td>\n",
       "      <td>0.132873</td>\n",
       "    </tr>\n",
       "    <tr>\n",
       "      <th>11</th>\n",
       "      <td>0.067913</td>\n",
       "      <td>0.235581</td>\n",
       "      <td>-0.016112</td>\n",
       "      <td>-0.012126</td>\n",
       "      <td>0.408754</td>\n",
       "      <td>-0.017673</td>\n",
       "      <td>0.346862</td>\n",
       "      <td>-0.026031</td>\n",
       "      <td>1.000000</td>\n",
       "      <td>0.007226</td>\n",
       "      <td>-0.012364</td>\n",
       "      <td>0.007591</td>\n",
       "      <td>-0.011609</td>\n",
       "      <td>-0.001808</td>\n",
       "      <td>0.002174</td>\n",
       "    </tr>\n",
       "    <tr>\n",
       "      <th>13</th>\n",
       "      <td>-0.004287</td>\n",
       "      <td>0.020109</td>\n",
       "      <td>0.066848</td>\n",
       "      <td>-0.156433</td>\n",
       "      <td>0.020601</td>\n",
       "      <td>-0.047802</td>\n",
       "      <td>0.007414</td>\n",
       "      <td>0.035655</td>\n",
       "      <td>0.007226</td>\n",
       "      <td>1.000000</td>\n",
       "      <td>-0.002458</td>\n",
       "      <td>-0.015145</td>\n",
       "      <td>-0.173396</td>\n",
       "      <td>-0.003954</td>\n",
       "      <td>0.065719</td>\n",
       "    </tr>\n",
       "    <tr>\n",
       "      <th>14</th>\n",
       "      <td>-0.088212</td>\n",
       "      <td>-0.006195</td>\n",
       "      <td>0.019207</td>\n",
       "      <td>-0.002931</td>\n",
       "      <td>-0.015932</td>\n",
       "      <td>-0.001613</td>\n",
       "      <td>-0.007818</td>\n",
       "      <td>0.000129</td>\n",
       "      <td>-0.012364</td>\n",
       "      <td>-0.002458</td>\n",
       "      <td>1.000000</td>\n",
       "      <td>-0.008354</td>\n",
       "      <td>-0.001974</td>\n",
       "      <td>0.011808</td>\n",
       "      <td>0.429387</td>\n",
       "    </tr>\n",
       "    <tr>\n",
       "      <th>15</th>\n",
       "      <td>0.021060</td>\n",
       "      <td>0.007360</td>\n",
       "      <td>-0.065642</td>\n",
       "      <td>-0.021401</td>\n",
       "      <td>0.002894</td>\n",
       "      <td>-0.001384</td>\n",
       "      <td>0.000099</td>\n",
       "      <td>-0.024436</td>\n",
       "      <td>0.007591</td>\n",
       "      <td>-0.015145</td>\n",
       "      <td>-0.008354</td>\n",
       "      <td>1.000000</td>\n",
       "      <td>-0.020061</td>\n",
       "      <td>-0.006377</td>\n",
       "      <td>-0.026948</td>\n",
       "    </tr>\n",
       "    <tr>\n",
       "      <th>17</th>\n",
       "      <td>0.013737</td>\n",
       "      <td>-0.009694</td>\n",
       "      <td>0.089116</td>\n",
       "      <td>0.900337</td>\n",
       "      <td>-0.012857</td>\n",
       "      <td>-0.183501</td>\n",
       "      <td>-0.011786</td>\n",
       "      <td>0.002636</td>\n",
       "      <td>-0.011609</td>\n",
       "      <td>-0.173396</td>\n",
       "      <td>-0.001974</td>\n",
       "      <td>-0.020061</td>\n",
       "      <td>1.000000</td>\n",
       "      <td>0.038005</td>\n",
       "      <td>0.024423</td>\n",
       "    </tr>\n",
       "    <tr>\n",
       "      <th>20</th>\n",
       "      <td>0.009342</td>\n",
       "      <td>-0.003220</td>\n",
       "      <td>0.004001</td>\n",
       "      <td>0.033696</td>\n",
       "      <td>-0.000478</td>\n",
       "      <td>-0.011306</td>\n",
       "      <td>-0.002989</td>\n",
       "      <td>-0.005110</td>\n",
       "      <td>-0.001808</td>\n",
       "      <td>-0.003954</td>\n",
       "      <td>0.011808</td>\n",
       "      <td>-0.006377</td>\n",
       "      <td>0.038005</td>\n",
       "      <td>1.000000</td>\n",
       "      <td>0.001188</td>\n",
       "    </tr>\n",
       "    <tr>\n",
       "      <th>label</th>\n",
       "      <td>-0.088982</td>\n",
       "      <td>-0.015600</td>\n",
       "      <td>0.062469</td>\n",
       "      <td>0.011840</td>\n",
       "      <td>-0.029494</td>\n",
       "      <td>-0.165548</td>\n",
       "      <td>-0.043236</td>\n",
       "      <td>0.132873</td>\n",
       "      <td>0.002174</td>\n",
       "      <td>0.065719</td>\n",
       "      <td>0.429387</td>\n",
       "      <td>-0.026948</td>\n",
       "      <td>0.024423</td>\n",
       "      <td>0.001188</td>\n",
       "      <td>1.000000</td>\n",
       "    </tr>\n",
       "  </tbody>\n",
       "</table>\n",
       "</div>"
      ],
      "text/plain": [
       "              0         3         4         5         7         8         9  \\\n",
       "0      1.000000  0.090564 -0.016967  0.009964  0.148854 -0.016146  0.125903   \n",
       "3      0.090564  1.000000  0.008787 -0.005487  0.595225 -0.010804  0.559471   \n",
       "4     -0.016967  0.008787  1.000000  0.079775  0.010736 -0.070730  0.012900   \n",
       "5      0.009964 -0.005487  0.079775  1.000000 -0.011275 -0.158702 -0.009352   \n",
       "7      0.148854  0.595225  0.010736 -0.011275  1.000000 -0.027526  0.934719   \n",
       "8     -0.016146 -0.010804 -0.070730 -0.158702 -0.027526  1.000000  0.004297   \n",
       "9      0.125903  0.559471  0.012900 -0.009352  0.934719  0.004297  1.000000   \n",
       "10    -0.040795 -0.036505  0.023810  0.002224 -0.057871  0.033749 -0.049853   \n",
       "11     0.067913  0.235581 -0.016112 -0.012126  0.408754 -0.017673  0.346862   \n",
       "13    -0.004287  0.020109  0.066848 -0.156433  0.020601 -0.047802  0.007414   \n",
       "14    -0.088212 -0.006195  0.019207 -0.002931 -0.015932 -0.001613 -0.007818   \n",
       "15     0.021060  0.007360 -0.065642 -0.021401  0.002894 -0.001384  0.000099   \n",
       "17     0.013737 -0.009694  0.089116  0.900337 -0.012857 -0.183501 -0.011786   \n",
       "20     0.009342 -0.003220  0.004001  0.033696 -0.000478 -0.011306 -0.002989   \n",
       "label -0.088982 -0.015600  0.062469  0.011840 -0.029494 -0.165548 -0.043236   \n",
       "\n",
       "             10        11        13        14        15        17        20  \\\n",
       "0     -0.040795  0.067913 -0.004287 -0.088212  0.021060  0.013737  0.009342   \n",
       "3     -0.036505  0.235581  0.020109 -0.006195  0.007360 -0.009694 -0.003220   \n",
       "4      0.023810 -0.016112  0.066848  0.019207 -0.065642  0.089116  0.004001   \n",
       "5      0.002224 -0.012126 -0.156433 -0.002931 -0.021401  0.900337  0.033696   \n",
       "7     -0.057871  0.408754  0.020601 -0.015932  0.002894 -0.012857 -0.000478   \n",
       "8      0.033749 -0.017673 -0.047802 -0.001613 -0.001384 -0.183501 -0.011306   \n",
       "9     -0.049853  0.346862  0.007414 -0.007818  0.000099 -0.011786 -0.002989   \n",
       "10     1.000000 -0.026031  0.035655  0.000129 -0.024436  0.002636 -0.005110   \n",
       "11    -0.026031  1.000000  0.007226 -0.012364  0.007591 -0.011609 -0.001808   \n",
       "13     0.035655  0.007226  1.000000 -0.002458 -0.015145 -0.173396 -0.003954   \n",
       "14     0.000129 -0.012364 -0.002458  1.000000 -0.008354 -0.001974  0.011808   \n",
       "15    -0.024436  0.007591 -0.015145 -0.008354  1.000000 -0.020061 -0.006377   \n",
       "17     0.002636 -0.011609 -0.173396 -0.001974 -0.020061  1.000000  0.038005   \n",
       "20    -0.005110 -0.001808 -0.003954  0.011808 -0.006377  0.038005  1.000000   \n",
       "label  0.132873  0.002174  0.065719  0.429387 -0.026948  0.024423  0.001188   \n",
       "\n",
       "          label  \n",
       "0     -0.088982  \n",
       "3     -0.015600  \n",
       "4      0.062469  \n",
       "5      0.011840  \n",
       "7     -0.029494  \n",
       "8     -0.165548  \n",
       "9     -0.043236  \n",
       "10     0.132873  \n",
       "11     0.002174  \n",
       "13     0.065719  \n",
       "14     0.429387  \n",
       "15    -0.026948  \n",
       "17     0.024423  \n",
       "20     0.001188  \n",
       "label  1.000000  "
      ]
     },
     "execution_count": 13,
     "metadata": {},
     "output_type": "execute_result"
    }
   ],
   "source": [
    "total_train.corr()"
   ]
  },
  {
   "cell_type": "markdown",
   "metadata": {},
   "source": [
    "we can spot that there is correlation between serval colounms , we will adress it in the next chapter"
   ]
  },
  {
   "cell_type": "code",
   "execution_count": 14,
   "metadata": {},
   "outputs": [
    {
     "data": {
      "text/plain": [
       "<matplotlib.axes._subplots.AxesSubplot at 0x175e71f5d60>"
      ]
     },
     "execution_count": 14,
     "metadata": {},
     "output_type": "execute_result"
    },
    {
     "data": {
      "image/png": "[encoded data removed]",
      "text/plain": [
       "<Figure size 720x720 with 2 Axes>"
      ]
     },
     "metadata": {
      "needs_background": "light"
     },
     "output_type": "display_data"
    }
   ],
   "source": [
    "total_train_without_label = total_train.drop([\"label\"], 1)\n",
    "figer, size = plt.subplots(figsize=(10,10))\n",
    "sns.heatmap(total_train_without_label.corr(),vmin=-1.0)"
   ]
  },
  {
   "cell_type": "code",
   "execution_count": 15,
   "metadata": {},
   "outputs": [
    {
     "data": {
      "image/png": "[encoded data removed]",
      "text/plain": [
       "<Figure size 360x360 with 6 Axes>"
      ]
     },
     "metadata": {},
     "output_type": "display_data"
    },
    {
     "data": {
      "image/png": "[encoded data removed]",
      "text/plain": [
       "<Figure size 360x360 with 6 Axes>"
      ]
     },
     "metadata": {},
     "output_type": "display_data"
    }
   ],
   "source": [
    "sns.set(style=\"whitegrid\", font_scale=1.5)\n",
    "cor_17_5 = [\"17\",\"5\"]\n",
    "cor_7_9 = [\"7\",\"9\"]\n",
    "sns.pairplot(total_train_without_label[cor_17_5], size = 2.5)\n",
    "sns.pairplot(total_train_without_label[cor_7_9], size = 2.5)\n",
    "plt.show()"
   ]
  },
  {
   "cell_type": "markdown",
   "metadata": {},
   "source": [
    "#  Part B - Pre Processing"
   ]
  },
  {
   "cell_type": "markdown",
   "metadata": {},
   "source": [
    "Now , we prepare our data for the models in the next chapter"
   ]
  },
  {
   "cell_type": "code",
   "execution_count": 16,
   "metadata": {},
   "outputs": [],
   "source": [
    "def unreadable_values(d_frame): #change the unreadable fields , and drop colounm 19 as it over 85% missing values rate.\n",
    "    d_frame = d_frame.replace({'?' : None})\n",
    "    d_frame[\"1\"].replace({\"unknown\": None}, inplace=True)\n",
    "    d_frame['2'] = d_frame['2'].str.replace(r'\\D', '').astype(float)\n",
    "    d_frame.drop(['19'], axis=1, inplace=True)\n",
    "\n",
    "    return d_frame"
   ]
  },
  {
   "cell_type": "code",
   "execution_count": 17,
   "metadata": {},
   "outputs": [],
   "source": [
    "total_train = unreadable_values(total_train)"
   ]
  },
  {
   "cell_type": "code",
   "execution_count": 18,
   "metadata": {},
   "outputs": [],
   "source": [
    "def drop_un_relevant_columns(d_frame): #we decided to drop all the following colounms , as we found high correlation ratio with other colounms that stayed in our data\n",
    "    d_frame.drop(['17'], axis=1, inplace=True)\n",
    "    d_frame.drop(['9'], axis=1, inplace=True)\n",
    "    d_frame.drop(['15'], axis=1, inplace=True)\n",
    "    \n",
    "    return d_frame"
   ]
  },
  {
   "cell_type": "code",
   "execution_count": 19,
   "metadata": {},
   "outputs": [],
   "source": [
    "def outlier_removal(d_frame): #appley the outlier removal on all numeric coloumns\n",
    "        numeric_list = ['0','2','3','4','5','7','10','11','20']\n",
    "        for num in numeric_list:\n",
    "            d_frame = d_frame[(np.abs(stats.zscore(d_frame[num], nan_policy='omit')) < 3)]\n",
    "        \n",
    "        return d_frame"
   ]
  },
  {
   "cell_type": "code",
   "execution_count": 20,
   "metadata": {},
   "outputs": [],
   "source": [
    "total_train = drop_un_relevant_columns(total_train)"
   ]
  },
  {
   "cell_type": "code",
   "execution_count": 21,
   "metadata": {},
   "outputs": [
    {
     "data": {
      "text/plain": [
       "(19281, 18)"
      ]
     },
     "execution_count": 21,
     "metadata": {},
     "output_type": "execute_result"
    }
   ],
   "source": [
    "total_train = outlier_removal(total_train)\n",
    "total_train.shape"
   ]
  },
  {
   "cell_type": "markdown",
   "metadata": {},
   "source": [
    " #applying standard scaller , as we found it most sutibale for our data , relative to min-max methood that requierd borders"
   ]
  },
  {
   "cell_type": "code",
   "execution_count": 22,
   "metadata": {},
   "outputs": [],
   "source": [
    "def scailing_X(d_frame):\n",
    "    scaler = StandardScaler()\n",
    "    d_frame[['0','2','3','4','5','7','10','11','14','20']] = scaler.fit_transform(d_frame[['0','2','3','4','5','7','10','11','14','20']])\n",
    "    return d_frame"
   ]
  },
  {
   "cell_type": "code",
   "execution_count": 23,
   "metadata": {},
   "outputs": [],
   "source": [
    "total_train = scailing_X(total_train)"
   ]
  },
  {
   "cell_type": "code",
   "execution_count": 24,
   "metadata": {},
   "outputs": [
    {
     "data": {
      "text/html": [
       "<div>\n",
       "<style scoped>\n",
       "    .dataframe tbody tr th:only-of-type {\n",
       "        vertical-align: middle;\n",
       "    }\n",
       "\n",
       "    .dataframe tbody tr th {\n",
       "        vertical-align: top;\n",
       "    }\n",
       "\n",
       "    .dataframe thead th {\n",
       "        text-align: right;\n",
       "    }\n",
       "</style>\n",
       "<table border=\"1\" class=\"dataframe\">\n",
       "  <thead>\n",
       "    <tr style=\"text-align: right;\">\n",
       "      <th></th>\n",
       "      <th>0</th>\n",
       "      <th>1</th>\n",
       "      <th>2</th>\n",
       "      <th>3</th>\n",
       "      <th>4</th>\n",
       "      <th>5</th>\n",
       "      <th>6</th>\n",
       "      <th>7</th>\n",
       "      <th>8</th>\n",
       "      <th>10</th>\n",
       "      <th>11</th>\n",
       "      <th>12</th>\n",
       "      <th>13</th>\n",
       "      <th>14</th>\n",
       "      <th>16</th>\n",
       "      <th>18</th>\n",
       "      <th>20</th>\n",
       "      <th>label</th>\n",
       "    </tr>\n",
       "  </thead>\n",
       "  <tbody>\n",
       "    <tr>\n",
       "      <th>0</th>\n",
       "      <td>-0.761303</td>\n",
       "      <td>a</td>\n",
       "      <td>-0.378136</td>\n",
       "      <td>-0.897743</td>\n",
       "      <td>-0.516154</td>\n",
       "      <td>-1.911245</td>\n",
       "      <td>K</td>\n",
       "      <td>-1.283641</td>\n",
       "      <td>0</td>\n",
       "      <td>-0.361661</td>\n",
       "      <td>-1.002139</td>\n",
       "      <td>n</td>\n",
       "      <td>2.0</td>\n",
       "      <td>0.485745</td>\n",
       "      <td>S</td>\n",
       "      <td>a8</td>\n",
       "      <td>-0.522940</td>\n",
       "      <td>1</td>\n",
       "    </tr>\n",
       "    <tr>\n",
       "      <th>1</th>\n",
       "      <td>3.031779</td>\n",
       "      <td>a</td>\n",
       "      <td>-0.378136</td>\n",
       "      <td>1.294911</td>\n",
       "      <td>-0.614613</td>\n",
       "      <td>0.817074</td>\n",
       "      <td>A</td>\n",
       "      <td>1.364513</td>\n",
       "      <td>0</td>\n",
       "      <td>-0.361661</td>\n",
       "      <td>0.159352</td>\n",
       "      <td>n</td>\n",
       "      <td>3.0</td>\n",
       "      <td>-0.781398</td>\n",
       "      <td>M</td>\n",
       "      <td>a8</td>\n",
       "      <td>1.076181</td>\n",
       "      <td>0</td>\n",
       "    </tr>\n",
       "    <tr>\n",
       "      <th>2</th>\n",
       "      <td>-0.761303</td>\n",
       "      <td>a</td>\n",
       "      <td>-0.378136</td>\n",
       "      <td>-0.728514</td>\n",
       "      <td>1.272334</td>\n",
       "      <td>1.063594</td>\n",
       "      <td>D</td>\n",
       "      <td>0.521918</td>\n",
       "      <td>1</td>\n",
       "      <td>-0.361661</td>\n",
       "      <td>0.287774</td>\n",
       "      <td>n</td>\n",
       "      <td>1.0</td>\n",
       "      <td>-0.221834</td>\n",
       "      <td>M</td>\n",
       "      <td>a4</td>\n",
       "      <td>-0.795748</td>\n",
       "      <td>0</td>\n",
       "    </tr>\n",
       "    <tr>\n",
       "      <th>3</th>\n",
       "      <td>-0.761303</td>\n",
       "      <td>b</td>\n",
       "      <td>-0.378136</td>\n",
       "      <td>-0.380042</td>\n",
       "      <td>-0.518471</td>\n",
       "      <td>1.781065</td>\n",
       "      <td>E</td>\n",
       "      <td>0.160806</td>\n",
       "      <td>0</td>\n",
       "      <td>-0.361661</td>\n",
       "      <td>-0.468642</td>\n",
       "      <td>y</td>\n",
       "      <td>2.0</td>\n",
       "      <td>NaN</td>\n",
       "      <td>D</td>\n",
       "      <td>a7</td>\n",
       "      <td>-0.256941</td>\n",
       "      <td>0</td>\n",
       "    </tr>\n",
       "    <tr>\n",
       "      <th>4</th>\n",
       "      <td>-0.761303</td>\n",
       "      <td>None</td>\n",
       "      <td>-0.378136</td>\n",
       "      <td>0.088809</td>\n",
       "      <td>-0.033123</td>\n",
       "      <td>-1.663596</td>\n",
       "      <td>B</td>\n",
       "      <td>1.244142</td>\n",
       "      <td>1</td>\n",
       "      <td>-0.361661</td>\n",
       "      <td>1.047531</td>\n",
       "      <td>n</td>\n",
       "      <td>3.0</td>\n",
       "      <td>0.048923</td>\n",
       "      <td>S</td>\n",
       "      <td>a5</td>\n",
       "      <td>1.072342</td>\n",
       "      <td>0</td>\n",
       "    </tr>\n",
       "  </tbody>\n",
       "</table>\n",
       "</div>"
      ],
      "text/plain": [
       "          0     1         2         3         4         5  6         7  8  \\\n",
       "0 -0.761303     a -0.378136 -0.897743 -0.516154 -1.911245  K -1.283641  0   \n",
       "1  3.031779     a -0.378136  1.294911 -0.614613  0.817074  A  1.364513  0   \n",
       "2 -0.761303     a -0.378136 -0.728514  1.272334  1.063594  D  0.521918  1   \n",
       "3 -0.761303     b -0.378136 -0.380042 -0.518471  1.781065  E  0.160806  0   \n",
       "4 -0.761303  None -0.378136  0.088809 -0.033123 -1.663596  B  1.244142  1   \n",
       "\n",
       "         10        11 12   13        14 16  18        20  label  \n",
       "0 -0.361661 -1.002139  n  2.0  0.485745  S  a8 -0.522940      1  \n",
       "1 -0.361661  0.159352  n  3.0 -0.781398  M  a8  1.076181      0  \n",
       "2 -0.361661  0.287774  n  1.0 -0.221834  M  a4 -0.795748      0  \n",
       "3 -0.361661 -0.468642  y  2.0       NaN  D  a7 -0.256941      0  \n",
       "4 -0.361661  1.047531  n  3.0  0.048923  S  a5  1.072342      0  "
      ]
     },
     "execution_count": 24,
     "metadata": {},
     "output_type": "execute_result"
    }
   ],
   "source": [
    "total_train.head()"
   ]
  },
  {
   "cell_type": "code",
   "execution_count": 25,
   "metadata": {},
   "outputs": [],
   "source": [
    "def fill_average_info(d_frame): #fill average number in each non binary colounms\n",
    "\n",
    "    colum_3 = d_frame[\"3\"]\n",
    "    colum_3_mean = colum_3.mean()\n",
    "    colum_3.fillna(colum_3_mean , inplace = True)\n",
    "\n",
    "    colum_4 = d_frame[\"4\"]\n",
    "    colum_4_mean = colum_4.mean()\n",
    "    colum_4.fillna(colum_4_mean , inplace = True)\n",
    "\n",
    "    colum_5 = d_frame[\"5\"]\n",
    "    colum_5_mean = colum_5.mean()\n",
    "    colum_5.fillna(colum_5_mean , inplace = True)\n",
    "\n",
    "    colum_11 = d_frame[\"11\"]\n",
    "    colum_11_mean = colum_11.mean()\n",
    "    colum_11.fillna(colum_11_mean , inplace = True)\n",
    "    \n",
    "    colum_20 = d_frame[\"20\"]\n",
    "    colum_20_mean = colum_20.mean()\n",
    "    colum_20.fillna(colum_20_mean , inplace = True)\n",
    "    \n",
    "    colum_14 = d_frame[\"14\"]\n",
    "    colum_14_mean = int(colum_14.mean())\n",
    "    colum_14.fillna(colum_14_mean , inplace = True)\n",
    "    \n",
    "    colum_0 = d_frame[\"0\"]\n",
    "    colum_0_mean = int(colum_0.mean())\n",
    "    colum_0.fillna(colum_0_mean , inplace = True)\n",
    "\n",
    "    colum_7 = d_frame[\"7\"]\n",
    "    colum_7_mean = int(colum_7.mean())\n",
    "    colum_7.fillna(colum_7_mean , inplace = True)\n",
    "    \n",
    "    return d_frame\n",
    "    "
   ]
  },
  {
   "cell_type": "code",
   "execution_count": 26,
   "metadata": {},
   "outputs": [],
   "source": [
    "def fill_in_common_values(d_frame): #for each binary coloumn , fill hightes probebility char\n",
    "\n",
    "    colum_12 = d_frame[\"12\"]\n",
    "    colum_12.fillna('n' , inplace = True)\n",
    "\n",
    "    colum_16 = d_frame[\"16\"]\n",
    "    colum_16.fillna('M' , inplace = True)\n",
    "\n",
    "    colum_18 = d_frame[\"18\"]\n",
    "    colum_18.fillna('a5' , inplace = True)\n",
    "    \n",
    "    colum_1 = d_frame[\"1\"]\n",
    "    colum_1.fillna('a' , inplace = True)\n",
    "\n",
    "    colum_2 = d_frame[\"2\"]\n",
    "    colum_2.fillna(1 , inplace = True)\n",
    "\n",
    "    colum_10 = d_frame[\"10\"]\n",
    "    colum_10.fillna(0 , inplace = True)\n",
    "\n",
    "    colum_13 = d_frame[\"13\"]\n",
    "    colum_13.fillna(2 , inplace = True)\n",
    "\n",
    "    colum_6 = d_frame[\"6\"]\n",
    "    colum_6.fillna('D' , inplace = True)\n",
    "    \n",
    "    return d_frame"
   ]
  },
  {
   "cell_type": "code",
   "execution_count": 27,
   "metadata": {},
   "outputs": [],
   "source": [
    "total_train = fill_average_info(total_train)"
   ]
  },
  {
   "cell_type": "code",
   "execution_count": 28,
   "metadata": {},
   "outputs": [],
   "source": [
    "total_train = fill_in_common_values(total_train)"
   ]
  },
  {
   "cell_type": "code",
   "execution_count": 29,
   "metadata": {},
   "outputs": [
    {
     "name": "stdout",
     "output_type": "stream",
     "text": [
      "sum      colum name\n"
     ]
    },
    {
     "data": {
      "text/plain": [
       "0        0\n",
       "1        0\n",
       "2        0\n",
       "3        0\n",
       "4        0\n",
       "5        0\n",
       "6        0\n",
       "7        0\n",
       "8        0\n",
       "10       0\n",
       "11       0\n",
       "12       0\n",
       "13       0\n",
       "14       0\n",
       "16       0\n",
       "18       0\n",
       "20       0\n",
       "label    0\n",
       "dtype: int64"
      ]
     },
     "execution_count": 29,
     "metadata": {},
     "output_type": "execute_result"
    }
   ],
   "source": [
    "print(\"sum      colum name\")\n",
    "total_train.isnull().sum()"
   ]
  },
  {
   "cell_type": "code",
   "execution_count": 30,
   "metadata": {},
   "outputs": [
    {
     "data": {
      "text/html": [
       "<div>\n",
       "<style scoped>\n",
       "    .dataframe tbody tr th:only-of-type {\n",
       "        vertical-align: middle;\n",
       "    }\n",
       "\n",
       "    .dataframe tbody tr th {\n",
       "        vertical-align: top;\n",
       "    }\n",
       "\n",
       "    .dataframe thead th {\n",
       "        text-align: right;\n",
       "    }\n",
       "</style>\n",
       "<table border=\"1\" class=\"dataframe\">\n",
       "  <thead>\n",
       "    <tr style=\"text-align: right;\">\n",
       "      <th></th>\n",
       "      <th>0</th>\n",
       "      <th>1</th>\n",
       "      <th>2</th>\n",
       "      <th>3</th>\n",
       "      <th>4</th>\n",
       "      <th>5</th>\n",
       "      <th>6</th>\n",
       "      <th>7</th>\n",
       "      <th>8</th>\n",
       "      <th>10</th>\n",
       "      <th>11</th>\n",
       "      <th>12</th>\n",
       "      <th>13</th>\n",
       "      <th>14</th>\n",
       "      <th>16</th>\n",
       "      <th>18</th>\n",
       "      <th>20</th>\n",
       "      <th>label</th>\n",
       "    </tr>\n",
       "  </thead>\n",
       "  <tbody>\n",
       "    <tr>\n",
       "      <th>0</th>\n",
       "      <td>-0.761303</td>\n",
       "      <td>a</td>\n",
       "      <td>-0.378136</td>\n",
       "      <td>-0.897743</td>\n",
       "      <td>-0.516154</td>\n",
       "      <td>-1.911245</td>\n",
       "      <td>K</td>\n",
       "      <td>-1.283641</td>\n",
       "      <td>0</td>\n",
       "      <td>-0.361661</td>\n",
       "      <td>-1.002139</td>\n",
       "      <td>n</td>\n",
       "      <td>2.0</td>\n",
       "      <td>0.485745</td>\n",
       "      <td>S</td>\n",
       "      <td>a8</td>\n",
       "      <td>-0.522940</td>\n",
       "      <td>1</td>\n",
       "    </tr>\n",
       "    <tr>\n",
       "      <th>1</th>\n",
       "      <td>3.031779</td>\n",
       "      <td>a</td>\n",
       "      <td>-0.378136</td>\n",
       "      <td>1.294911</td>\n",
       "      <td>-0.614613</td>\n",
       "      <td>0.817074</td>\n",
       "      <td>A</td>\n",
       "      <td>1.364513</td>\n",
       "      <td>0</td>\n",
       "      <td>-0.361661</td>\n",
       "      <td>0.159352</td>\n",
       "      <td>n</td>\n",
       "      <td>3.0</td>\n",
       "      <td>-0.781398</td>\n",
       "      <td>M</td>\n",
       "      <td>a8</td>\n",
       "      <td>1.076181</td>\n",
       "      <td>0</td>\n",
       "    </tr>\n",
       "    <tr>\n",
       "      <th>2</th>\n",
       "      <td>-0.761303</td>\n",
       "      <td>a</td>\n",
       "      <td>-0.378136</td>\n",
       "      <td>-0.728514</td>\n",
       "      <td>1.272334</td>\n",
       "      <td>1.063594</td>\n",
       "      <td>D</td>\n",
       "      <td>0.521918</td>\n",
       "      <td>1</td>\n",
       "      <td>-0.361661</td>\n",
       "      <td>0.287774</td>\n",
       "      <td>n</td>\n",
       "      <td>1.0</td>\n",
       "      <td>-0.221834</td>\n",
       "      <td>M</td>\n",
       "      <td>a4</td>\n",
       "      <td>-0.795748</td>\n",
       "      <td>0</td>\n",
       "    </tr>\n",
       "    <tr>\n",
       "      <th>3</th>\n",
       "      <td>-0.761303</td>\n",
       "      <td>b</td>\n",
       "      <td>-0.378136</td>\n",
       "      <td>-0.380042</td>\n",
       "      <td>-0.518471</td>\n",
       "      <td>1.781065</td>\n",
       "      <td>E</td>\n",
       "      <td>0.160806</td>\n",
       "      <td>0</td>\n",
       "      <td>-0.361661</td>\n",
       "      <td>-0.468642</td>\n",
       "      <td>y</td>\n",
       "      <td>2.0</td>\n",
       "      <td>0.000000</td>\n",
       "      <td>D</td>\n",
       "      <td>a7</td>\n",
       "      <td>-0.256941</td>\n",
       "      <td>0</td>\n",
       "    </tr>\n",
       "    <tr>\n",
       "      <th>4</th>\n",
       "      <td>-0.761303</td>\n",
       "      <td>a</td>\n",
       "      <td>-0.378136</td>\n",
       "      <td>0.088809</td>\n",
       "      <td>-0.033123</td>\n",
       "      <td>-1.663596</td>\n",
       "      <td>B</td>\n",
       "      <td>1.244142</td>\n",
       "      <td>1</td>\n",
       "      <td>-0.361661</td>\n",
       "      <td>1.047531</td>\n",
       "      <td>n</td>\n",
       "      <td>3.0</td>\n",
       "      <td>0.048923</td>\n",
       "      <td>S</td>\n",
       "      <td>a5</td>\n",
       "      <td>1.072342</td>\n",
       "      <td>0</td>\n",
       "    </tr>\n",
       "  </tbody>\n",
       "</table>\n",
       "</div>"
      ],
      "text/plain": [
       "          0  1         2         3         4         5  6         7  8  \\\n",
       "0 -0.761303  a -0.378136 -0.897743 -0.516154 -1.911245  K -1.283641  0   \n",
       "1  3.031779  a -0.378136  1.294911 -0.614613  0.817074  A  1.364513  0   \n",
       "2 -0.761303  a -0.378136 -0.728514  1.272334  1.063594  D  0.521918  1   \n",
       "3 -0.761303  b -0.378136 -0.380042 -0.518471  1.781065  E  0.160806  0   \n",
       "4 -0.761303  a -0.378136  0.088809 -0.033123 -1.663596  B  1.244142  1   \n",
       "\n",
       "         10        11 12   13        14 16  18        20  label  \n",
       "0 -0.361661 -1.002139  n  2.0  0.485745  S  a8 -0.522940      1  \n",
       "1 -0.361661  0.159352  n  3.0 -0.781398  M  a8  1.076181      0  \n",
       "2 -0.361661  0.287774  n  1.0 -0.221834  M  a4 -0.795748      0  \n",
       "3 -0.361661 -0.468642  y  2.0  0.000000  D  a7 -0.256941      0  \n",
       "4 -0.361661  1.047531  n  3.0  0.048923  S  a5  1.072342      0  "
      ]
     },
     "execution_count": 30,
     "metadata": {},
     "output_type": "execute_result"
    }
   ],
   "source": [
    "total_train.head()"
   ]
  },
  {
   "cell_type": "code",
   "execution_count": 31,
   "metadata": {},
   "outputs": [
    {
     "data": {
      "text/plain": [
       "0        float64\n",
       "1         object\n",
       "2        float64\n",
       "3        float64\n",
       "4        float64\n",
       "5        float64\n",
       "6         object\n",
       "7        float64\n",
       "8          int64\n",
       "10       float64\n",
       "11       float64\n",
       "12        object\n",
       "13       float64\n",
       "14       float64\n",
       "16        object\n",
       "18        object\n",
       "20       float64\n",
       "label      int64\n",
       "dtype: object"
      ]
     },
     "execution_count": 31,
     "metadata": {},
     "output_type": "execute_result"
    }
   ],
   "source": [
    "total_train.dtypes"
   ]
  },
  {
   "cell_type": "markdown",
   "metadata": {},
   "source": [
    "We tried to split our data into 2 main df , for binary and non binary coloumns. we decided at last to keep it together."
   ]
  },
  {
   "cell_type": "code",
   "execution_count": 32,
   "metadata": {},
   "outputs": [
    {
     "data": {
      "text/plain": [
       "'def create_copys(d_frame):\\n\\n    non_binary_df = d_frame.copy(deep=True)\\n    non_binary_df = non_binary_df.drop([\"label\",\"1\",\"6\",\"8\",\"12\",\"13\",\"16\",\"18\"],axis = 1)\\n\\n    \\n    binary_df = d_frame.copy(deep=True)\\n    binary_df = binary_df.drop([\"label\",\"0\",\"2\",\"3\",\"4\",\"5\",\"7\",\"11\",\"14\",\"20\"],axis = 1)\\n    \\n    lable = d_frame.copy(deep=True)\\n    lable = lable.drop([\"0\",\"1\",\"2\",\"3\",\"4\",\"5\",\"6\",\"8\",\"7\",\"8\",\"10\",\"11\",\"12\",\"13\",\"14\",\"16\",\"18\",\"20\"],axis = 1)\\n    \\n    return non_binary_df,binary_df,lable'"
      ]
     },
     "execution_count": 32,
     "metadata": {},
     "output_type": "execute_result"
    }
   ],
   "source": [
    "'''def create_copys(d_frame):\n",
    "\n",
    "    non_binary_df = d_frame.copy(deep=True)\n",
    "    non_binary_df = non_binary_df.drop([\"label\",\"1\",\"6\",\"8\",\"12\",\"13\",\"16\",\"18\"],axis = 1)\n",
    "\n",
    "    \n",
    "    binary_df = d_frame.copy(deep=True)\n",
    "    binary_df = binary_df.drop([\"label\",\"0\",\"2\",\"3\",\"4\",\"5\",\"7\",\"11\",\"14\",\"20\"],axis = 1)\n",
    "    \n",
    "    lable = d_frame.copy(deep=True)\n",
    "    lable = lable.drop([\"0\",\"1\",\"2\",\"3\",\"4\",\"5\",\"6\",\"8\",\"7\",\"8\",\"10\",\"11\",\"12\",\"13\",\"14\",\"16\",\"18\",\"20\"],axis = 1)\n",
    "    \n",
    "    return non_binary_df,binary_df,lable''' "
   ]
  },
  {
   "cell_type": "code",
   "execution_count": 33,
   "metadata": {},
   "outputs": [
    {
     "data": {
      "text/plain": [
       "'train_non_binary , train_binary ,lable_only = create_copys(total_train)'"
      ]
     },
     "execution_count": 33,
     "metadata": {},
     "output_type": "execute_result"
    }
   ],
   "source": [
    "'''train_non_binary , train_binary ,lable_only = create_copys(total_train)''' "
   ]
  },
  {
   "cell_type": "code",
   "execution_count": 34,
   "metadata": {},
   "outputs": [
    {
     "ename": "NameError",
     "evalue": "name 'train_non_binary' is not defined",
     "output_type": "error",
     "traceback": [
      "\u001b[1;31m---------------------------------------------------------------------------\u001b[0m",
      "\u001b[1;31mNameError\u001b[0m                                 Traceback (most recent call last)",
      "\u001b[1;32m<ipython-input-34-902b99cab280>\u001b[0m in \u001b[0;36m<module>\u001b[1;34m\u001b[0m\n\u001b[1;32m----> 1\u001b[1;33m \u001b[0mtrain_non_binary\u001b[0m\u001b[1;33m.\u001b[0m\u001b[0mshape\u001b[0m\u001b[1;33m\u001b[0m\u001b[1;33m\u001b[0m\u001b[0m\n\u001b[0m",
      "\u001b[1;31mNameError\u001b[0m: name 'train_non_binary' is not defined"
     ]
    }
   ],
   "source": [
    "train_non_binary.shape"
   ]
  },
  {
   "cell_type": "markdown",
   "metadata": {},
   "source": [
    "now we will handle each categorcial features , by spiliting them with \"one hot encoding\" for the multi variant columns , and for 0 and 1 for the binary ones"
   ]
  },
  {
   "cell_type": "code",
   "execution_count": 35,
   "metadata": {},
   "outputs": [],
   "source": [
    "def binary_columns_transform(d_frame):\n",
    "\n",
    "    d_frame[\"1\"].replace({\"a\": 1 , \"b\": 0}, inplace=True)\n",
    "    d_frame[\"12\"].replace({\"n\": 1 , \"y\": 0}, inplace=True)\n",
    "    return d_frame"
   ]
  },
  {
   "cell_type": "code",
   "execution_count": 36,
   "metadata": {},
   "outputs": [],
   "source": [
    "def multi_varient_columns(d_frame): #one hot encoding\n",
    "\n",
    "    row_6 = pd.get_dummies(d_frame['6'],prefix = \"6\")\n",
    "    row_10 = pd.get_dummies(d_frame['10'],prefix = \"10\")\n",
    "    row_13 = pd.get_dummies(d_frame['13'],prefix = \"13\")\n",
    "    row_16 = pd.get_dummies(d_frame['16'],prefix = \"16\")\n",
    "    row_18 = pd.get_dummies(d_frame['18'],prefix = \"18\")\n",
    "\n",
    "    frames = [d_frame,row_6,row_10,row_16,row_18]\n",
    "    d_frame = pd.concat(frames , axis = 1)\n",
    "\n",
    "    d_frame = d_frame.drop(columns = ['6','10','13','16','18'])\n",
    "\n",
    "    return d_frame"
   ]
  },
  {
   "cell_type": "code",
   "execution_count": 37,
   "metadata": {},
   "outputs": [],
   "source": [
    "total_train = binary_columns_transform(total_train)"
   ]
  },
  {
   "cell_type": "code",
   "execution_count": 38,
   "metadata": {},
   "outputs": [],
   "source": [
    "total_train = multi_varient_columns(total_train)"
   ]
  },
  {
   "cell_type": "code",
   "execution_count": 39,
   "metadata": {},
   "outputs": [
    {
     "data": {
      "text/html": [
       "<div>\n",
       "<style scoped>\n",
       "    .dataframe tbody tr th:only-of-type {\n",
       "        vertical-align: middle;\n",
       "    }\n",
       "\n",
       "    .dataframe tbody tr th {\n",
       "        vertical-align: top;\n",
       "    }\n",
       "\n",
       "    .dataframe thead th {\n",
       "        text-align: right;\n",
       "    }\n",
       "</style>\n",
       "<table border=\"1\" class=\"dataframe\">\n",
       "  <thead>\n",
       "    <tr style=\"text-align: right;\">\n",
       "      <th></th>\n",
       "      <th>0</th>\n",
       "      <th>1</th>\n",
       "      <th>2</th>\n",
       "      <th>3</th>\n",
       "      <th>4</th>\n",
       "      <th>5</th>\n",
       "      <th>7</th>\n",
       "      <th>8</th>\n",
       "      <th>11</th>\n",
       "      <th>12</th>\n",
       "      <th>...</th>\n",
       "      <th>18_a11</th>\n",
       "      <th>18_a12</th>\n",
       "      <th>18_a2</th>\n",
       "      <th>18_a3</th>\n",
       "      <th>18_a4</th>\n",
       "      <th>18_a5</th>\n",
       "      <th>18_a6</th>\n",
       "      <th>18_a7</th>\n",
       "      <th>18_a8</th>\n",
       "      <th>18_a9</th>\n",
       "    </tr>\n",
       "  </thead>\n",
       "  <tbody>\n",
       "    <tr>\n",
       "      <th>0</th>\n",
       "      <td>-0.761303</td>\n",
       "      <td>1</td>\n",
       "      <td>-0.378136</td>\n",
       "      <td>-0.897743</td>\n",
       "      <td>-0.516154</td>\n",
       "      <td>-1.911245</td>\n",
       "      <td>-1.283641</td>\n",
       "      <td>0</td>\n",
       "      <td>-1.002139</td>\n",
       "      <td>1</td>\n",
       "      <td>...</td>\n",
       "      <td>0</td>\n",
       "      <td>0</td>\n",
       "      <td>0</td>\n",
       "      <td>0</td>\n",
       "      <td>0</td>\n",
       "      <td>0</td>\n",
       "      <td>0</td>\n",
       "      <td>0</td>\n",
       "      <td>1</td>\n",
       "      <td>0</td>\n",
       "    </tr>\n",
       "    <tr>\n",
       "      <th>1</th>\n",
       "      <td>3.031779</td>\n",
       "      <td>1</td>\n",
       "      <td>-0.378136</td>\n",
       "      <td>1.294911</td>\n",
       "      <td>-0.614613</td>\n",
       "      <td>0.817074</td>\n",
       "      <td>1.364513</td>\n",
       "      <td>0</td>\n",
       "      <td>0.159352</td>\n",
       "      <td>1</td>\n",
       "      <td>...</td>\n",
       "      <td>0</td>\n",
       "      <td>0</td>\n",
       "      <td>0</td>\n",
       "      <td>0</td>\n",
       "      <td>0</td>\n",
       "      <td>0</td>\n",
       "      <td>0</td>\n",
       "      <td>0</td>\n",
       "      <td>1</td>\n",
       "      <td>0</td>\n",
       "    </tr>\n",
       "    <tr>\n",
       "      <th>2</th>\n",
       "      <td>-0.761303</td>\n",
       "      <td>1</td>\n",
       "      <td>-0.378136</td>\n",
       "      <td>-0.728514</td>\n",
       "      <td>1.272334</td>\n",
       "      <td>1.063594</td>\n",
       "      <td>0.521918</td>\n",
       "      <td>1</td>\n",
       "      <td>0.287774</td>\n",
       "      <td>1</td>\n",
       "      <td>...</td>\n",
       "      <td>0</td>\n",
       "      <td>0</td>\n",
       "      <td>0</td>\n",
       "      <td>0</td>\n",
       "      <td>1</td>\n",
       "      <td>0</td>\n",
       "      <td>0</td>\n",
       "      <td>0</td>\n",
       "      <td>0</td>\n",
       "      <td>0</td>\n",
       "    </tr>\n",
       "    <tr>\n",
       "      <th>3</th>\n",
       "      <td>-0.761303</td>\n",
       "      <td>0</td>\n",
       "      <td>-0.378136</td>\n",
       "      <td>-0.380042</td>\n",
       "      <td>-0.518471</td>\n",
       "      <td>1.781065</td>\n",
       "      <td>0.160806</td>\n",
       "      <td>0</td>\n",
       "      <td>-0.468642</td>\n",
       "      <td>0</td>\n",
       "      <td>...</td>\n",
       "      <td>0</td>\n",
       "      <td>0</td>\n",
       "      <td>0</td>\n",
       "      <td>0</td>\n",
       "      <td>0</td>\n",
       "      <td>0</td>\n",
       "      <td>0</td>\n",
       "      <td>1</td>\n",
       "      <td>0</td>\n",
       "      <td>0</td>\n",
       "    </tr>\n",
       "    <tr>\n",
       "      <th>4</th>\n",
       "      <td>-0.761303</td>\n",
       "      <td>1</td>\n",
       "      <td>-0.378136</td>\n",
       "      <td>0.088809</td>\n",
       "      <td>-0.033123</td>\n",
       "      <td>-1.663596</td>\n",
       "      <td>1.244142</td>\n",
       "      <td>1</td>\n",
       "      <td>1.047531</td>\n",
       "      <td>1</td>\n",
       "      <td>...</td>\n",
       "      <td>0</td>\n",
       "      <td>0</td>\n",
       "      <td>0</td>\n",
       "      <td>0</td>\n",
       "      <td>0</td>\n",
       "      <td>1</td>\n",
       "      <td>0</td>\n",
       "      <td>0</td>\n",
       "      <td>0</td>\n",
       "      <td>0</td>\n",
       "    </tr>\n",
       "  </tbody>\n",
       "</table>\n",
       "<p>5 rows × 45 columns</p>\n",
       "</div>"
      ],
      "text/plain": [
       "          0  1         2         3         4         5         7  8        11  \\\n",
       "0 -0.761303  1 -0.378136 -0.897743 -0.516154 -1.911245 -1.283641  0 -1.002139   \n",
       "1  3.031779  1 -0.378136  1.294911 -0.614613  0.817074  1.364513  0  0.159352   \n",
       "2 -0.761303  1 -0.378136 -0.728514  1.272334  1.063594  0.521918  1  0.287774   \n",
       "3 -0.761303  0 -0.378136 -0.380042 -0.518471  1.781065  0.160806  0 -0.468642   \n",
       "4 -0.761303  1 -0.378136  0.088809 -0.033123 -1.663596  1.244142  1  1.047531   \n",
       "\n",
       "   12  ...  18_a11  18_a12  18_a2  18_a3  18_a4  18_a5  18_a6  18_a7  18_a8  \\\n",
       "0   1  ...       0       0      0      0      0      0      0      0      1   \n",
       "1   1  ...       0       0      0      0      0      0      0      0      1   \n",
       "2   1  ...       0       0      0      0      1      0      0      0      0   \n",
       "3   0  ...       0       0      0      0      0      0      0      1      0   \n",
       "4   1  ...       0       0      0      0      0      1      0      0      0   \n",
       "\n",
       "   18_a9  \n",
       "0      0  \n",
       "1      0  \n",
       "2      0  \n",
       "3      0  \n",
       "4      0  \n",
       "\n",
       "[5 rows x 45 columns]"
      ]
     },
     "execution_count": 39,
     "metadata": {},
     "output_type": "execute_result"
    }
   ],
   "source": [
    "total_train.head()"
   ]
  },
  {
   "cell_type": "markdown",
   "metadata": {},
   "source": []
  },
  {
   "cell_type": "code",
   "execution_count": 40,
   "metadata": {},
   "outputs": [],
   "source": [
    "lable_only = total_train[[\"label\"]].copy()"
   ]
  },
  {
   "cell_type": "code",
   "execution_count": 41,
   "metadata": {},
   "outputs": [],
   "source": [
    "train_without_lable = total_train.drop([\"label\"], axis = 1)"
   ]
  },
  {
   "cell_type": "code",
   "execution_count": 42,
   "metadata": {},
   "outputs": [
    {
     "data": {
      "text/html": [
       "<div>\n",
       "<style scoped>\n",
       "    .dataframe tbody tr th:only-of-type {\n",
       "        vertical-align: middle;\n",
       "    }\n",
       "\n",
       "    .dataframe tbody tr th {\n",
       "        vertical-align: top;\n",
       "    }\n",
       "\n",
       "    .dataframe thead th {\n",
       "        text-align: right;\n",
       "    }\n",
       "</style>\n",
       "<table border=\"1\" class=\"dataframe\">\n",
       "  <thead>\n",
       "    <tr style=\"text-align: right;\">\n",
       "      <th></th>\n",
       "      <th>label</th>\n",
       "    </tr>\n",
       "  </thead>\n",
       "  <tbody>\n",
       "    <tr>\n",
       "      <th>0</th>\n",
       "      <td>1</td>\n",
       "    </tr>\n",
       "    <tr>\n",
       "      <th>1</th>\n",
       "      <td>0</td>\n",
       "    </tr>\n",
       "    <tr>\n",
       "      <th>2</th>\n",
       "      <td>0</td>\n",
       "    </tr>\n",
       "    <tr>\n",
       "      <th>3</th>\n",
       "      <td>0</td>\n",
       "    </tr>\n",
       "    <tr>\n",
       "      <th>4</th>\n",
       "      <td>0</td>\n",
       "    </tr>\n",
       "  </tbody>\n",
       "</table>\n",
       "</div>"
      ],
      "text/plain": [
       "   label\n",
       "0      1\n",
       "1      0\n",
       "2      0\n",
       "3      0\n",
       "4      0"
      ]
     },
     "execution_count": 42,
     "metadata": {},
     "output_type": "execute_result"
    }
   ],
   "source": [
    "lable_only.head()"
   ]
  },
  {
   "cell_type": "code",
   "execution_count": 43,
   "metadata": {},
   "outputs": [
    {
     "data": {
      "text/html": [
       "<div>\n",
       "<style scoped>\n",
       "    .dataframe tbody tr th:only-of-type {\n",
       "        vertical-align: middle;\n",
       "    }\n",
       "\n",
       "    .dataframe tbody tr th {\n",
       "        vertical-align: top;\n",
       "    }\n",
       "\n",
       "    .dataframe thead th {\n",
       "        text-align: right;\n",
       "    }\n",
       "</style>\n",
       "<table border=\"1\" class=\"dataframe\">\n",
       "  <thead>\n",
       "    <tr style=\"text-align: right;\">\n",
       "      <th></th>\n",
       "      <th>0</th>\n",
       "      <th>1</th>\n",
       "      <th>2</th>\n",
       "      <th>3</th>\n",
       "      <th>4</th>\n",
       "      <th>5</th>\n",
       "      <th>7</th>\n",
       "      <th>8</th>\n",
       "      <th>11</th>\n",
       "      <th>12</th>\n",
       "      <th>...</th>\n",
       "      <th>18_a11</th>\n",
       "      <th>18_a12</th>\n",
       "      <th>18_a2</th>\n",
       "      <th>18_a3</th>\n",
       "      <th>18_a4</th>\n",
       "      <th>18_a5</th>\n",
       "      <th>18_a6</th>\n",
       "      <th>18_a7</th>\n",
       "      <th>18_a8</th>\n",
       "      <th>18_a9</th>\n",
       "    </tr>\n",
       "  </thead>\n",
       "  <tbody>\n",
       "    <tr>\n",
       "      <th>0</th>\n",
       "      <td>-0.761303</td>\n",
       "      <td>1</td>\n",
       "      <td>-0.378136</td>\n",
       "      <td>-0.897743</td>\n",
       "      <td>-0.516154</td>\n",
       "      <td>-1.911245</td>\n",
       "      <td>-1.283641</td>\n",
       "      <td>0</td>\n",
       "      <td>-1.002139</td>\n",
       "      <td>1</td>\n",
       "      <td>...</td>\n",
       "      <td>0</td>\n",
       "      <td>0</td>\n",
       "      <td>0</td>\n",
       "      <td>0</td>\n",
       "      <td>0</td>\n",
       "      <td>0</td>\n",
       "      <td>0</td>\n",
       "      <td>0</td>\n",
       "      <td>1</td>\n",
       "      <td>0</td>\n",
       "    </tr>\n",
       "    <tr>\n",
       "      <th>1</th>\n",
       "      <td>3.031779</td>\n",
       "      <td>1</td>\n",
       "      <td>-0.378136</td>\n",
       "      <td>1.294911</td>\n",
       "      <td>-0.614613</td>\n",
       "      <td>0.817074</td>\n",
       "      <td>1.364513</td>\n",
       "      <td>0</td>\n",
       "      <td>0.159352</td>\n",
       "      <td>1</td>\n",
       "      <td>...</td>\n",
       "      <td>0</td>\n",
       "      <td>0</td>\n",
       "      <td>0</td>\n",
       "      <td>0</td>\n",
       "      <td>0</td>\n",
       "      <td>0</td>\n",
       "      <td>0</td>\n",
       "      <td>0</td>\n",
       "      <td>1</td>\n",
       "      <td>0</td>\n",
       "    </tr>\n",
       "    <tr>\n",
       "      <th>2</th>\n",
       "      <td>-0.761303</td>\n",
       "      <td>1</td>\n",
       "      <td>-0.378136</td>\n",
       "      <td>-0.728514</td>\n",
       "      <td>1.272334</td>\n",
       "      <td>1.063594</td>\n",
       "      <td>0.521918</td>\n",
       "      <td>1</td>\n",
       "      <td>0.287774</td>\n",
       "      <td>1</td>\n",
       "      <td>...</td>\n",
       "      <td>0</td>\n",
       "      <td>0</td>\n",
       "      <td>0</td>\n",
       "      <td>0</td>\n",
       "      <td>1</td>\n",
       "      <td>0</td>\n",
       "      <td>0</td>\n",
       "      <td>0</td>\n",
       "      <td>0</td>\n",
       "      <td>0</td>\n",
       "    </tr>\n",
       "    <tr>\n",
       "      <th>3</th>\n",
       "      <td>-0.761303</td>\n",
       "      <td>0</td>\n",
       "      <td>-0.378136</td>\n",
       "      <td>-0.380042</td>\n",
       "      <td>-0.518471</td>\n",
       "      <td>1.781065</td>\n",
       "      <td>0.160806</td>\n",
       "      <td>0</td>\n",
       "      <td>-0.468642</td>\n",
       "      <td>0</td>\n",
       "      <td>...</td>\n",
       "      <td>0</td>\n",
       "      <td>0</td>\n",
       "      <td>0</td>\n",
       "      <td>0</td>\n",
       "      <td>0</td>\n",
       "      <td>0</td>\n",
       "      <td>0</td>\n",
       "      <td>1</td>\n",
       "      <td>0</td>\n",
       "      <td>0</td>\n",
       "    </tr>\n",
       "    <tr>\n",
       "      <th>4</th>\n",
       "      <td>-0.761303</td>\n",
       "      <td>1</td>\n",
       "      <td>-0.378136</td>\n",
       "      <td>0.088809</td>\n",
       "      <td>-0.033123</td>\n",
       "      <td>-1.663596</td>\n",
       "      <td>1.244142</td>\n",
       "      <td>1</td>\n",
       "      <td>1.047531</td>\n",
       "      <td>1</td>\n",
       "      <td>...</td>\n",
       "      <td>0</td>\n",
       "      <td>0</td>\n",
       "      <td>0</td>\n",
       "      <td>0</td>\n",
       "      <td>0</td>\n",
       "      <td>1</td>\n",
       "      <td>0</td>\n",
       "      <td>0</td>\n",
       "      <td>0</td>\n",
       "      <td>0</td>\n",
       "    </tr>\n",
       "  </tbody>\n",
       "</table>\n",
       "<p>5 rows × 44 columns</p>\n",
       "</div>"
      ],
      "text/plain": [
       "          0  1         2         3         4         5         7  8        11  \\\n",
       "0 -0.761303  1 -0.378136 -0.897743 -0.516154 -1.911245 -1.283641  0 -1.002139   \n",
       "1  3.031779  1 -0.378136  1.294911 -0.614613  0.817074  1.364513  0  0.159352   \n",
       "2 -0.761303  1 -0.378136 -0.728514  1.272334  1.063594  0.521918  1  0.287774   \n",
       "3 -0.761303  0 -0.378136 -0.380042 -0.518471  1.781065  0.160806  0 -0.468642   \n",
       "4 -0.761303  1 -0.378136  0.088809 -0.033123 -1.663596  1.244142  1  1.047531   \n",
       "\n",
       "   12  ...  18_a11  18_a12  18_a2  18_a3  18_a4  18_a5  18_a6  18_a7  18_a8  \\\n",
       "0   1  ...       0       0      0      0      0      0      0      0      1   \n",
       "1   1  ...       0       0      0      0      0      0      0      0      1   \n",
       "2   1  ...       0       0      0      0      1      0      0      0      0   \n",
       "3   0  ...       0       0      0      0      0      0      0      1      0   \n",
       "4   1  ...       0       0      0      0      0      1      0      0      0   \n",
       "\n",
       "   18_a9  \n",
       "0      0  \n",
       "1      0  \n",
       "2      0  \n",
       "3      0  \n",
       "4      0  \n",
       "\n",
       "[5 rows x 44 columns]"
      ]
     },
     "execution_count": 43,
     "metadata": {},
     "output_type": "execute_result"
    }
   ],
   "source": [
    "train_without_lable.head()"
   ]
  },
  {
   "cell_type": "code",
   "execution_count": 77,
   "metadata": {},
   "outputs": [],
   "source": [
    "def Pca_df(df):\n",
    "    pca=PCA(n_components=20)\n",
    "    pca.fit(df)\n",
    "    x_new=pca.transform(df)\n",
    "    pca.explained_variance_ratio_\n",
    "    pca.components_\n",
    "    \n",
    "    count=0\n",
    "    for i in pca.explained_variance_ratio_:\n",
    "        count += i\n",
    "       \n",
    "    return x_new , count"
   ]
  },
  {
   "cell_type": "code",
   "execution_count": 45,
   "metadata": {},
   "outputs": [
    {
     "name": "stdout",
     "output_type": "stream",
     "text": [
      "0.9407491816574989\n"
     ]
    }
   ],
   "source": [
    "df , count = Pca_df(train_without_lable)\n",
    "print(count)"
   ]
  },
  {
   "cell_type": "code",
   "execution_count": 46,
   "metadata": {},
   "outputs": [
    {
     "data": {
      "text/html": [
       "<div>\n",
       "<style scoped>\n",
       "    .dataframe tbody tr th:only-of-type {\n",
       "        vertical-align: middle;\n",
       "    }\n",
       "\n",
       "    .dataframe tbody tr th {\n",
       "        vertical-align: top;\n",
       "    }\n",
       "\n",
       "    .dataframe thead th {\n",
       "        text-align: right;\n",
       "    }\n",
       "</style>\n",
       "<table border=\"1\" class=\"dataframe\">\n",
       "  <thead>\n",
       "    <tr style=\"text-align: right;\">\n",
       "      <th></th>\n",
       "      <th>0</th>\n",
       "      <th>1</th>\n",
       "      <th>2</th>\n",
       "      <th>3</th>\n",
       "      <th>4</th>\n",
       "      <th>5</th>\n",
       "      <th>6</th>\n",
       "      <th>7</th>\n",
       "      <th>8</th>\n",
       "      <th>9</th>\n",
       "      <th>10</th>\n",
       "      <th>11</th>\n",
       "      <th>12</th>\n",
       "      <th>13</th>\n",
       "      <th>14</th>\n",
       "      <th>15</th>\n",
       "      <th>16</th>\n",
       "      <th>17</th>\n",
       "      <th>18</th>\n",
       "      <th>19</th>\n",
       "    </tr>\n",
       "  </thead>\n",
       "  <tbody>\n",
       "    <tr>\n",
       "      <th>0</th>\n",
       "      <td>-1.848807</td>\n",
       "      <td>0.324581</td>\n",
       "      <td>-2.077937</td>\n",
       "      <td>0.494536</td>\n",
       "      <td>0.803641</td>\n",
       "      <td>0.250787</td>\n",
       "      <td>0.305269</td>\n",
       "      <td>-0.164801</td>\n",
       "      <td>-0.988253</td>\n",
       "      <td>0.087924</td>\n",
       "      <td>-0.431809</td>\n",
       "      <td>-0.117424</td>\n",
       "      <td>0.116159</td>\n",
       "      <td>-0.550176</td>\n",
       "      <td>0.016241</td>\n",
       "      <td>0.021276</td>\n",
       "      <td>0.170890</td>\n",
       "      <td>-0.129621</td>\n",
       "      <td>0.473504</td>\n",
       "      <td>0.376740</td>\n",
       "    </tr>\n",
       "    <tr>\n",
       "      <th>1</th>\n",
       "      <td>2.300971</td>\n",
       "      <td>-1.917717</td>\n",
       "      <td>0.552975</td>\n",
       "      <td>-1.266904</td>\n",
       "      <td>-1.852940</td>\n",
       "      <td>1.321341</td>\n",
       "      <td>0.003964</td>\n",
       "      <td>-0.603158</td>\n",
       "      <td>-0.448361</td>\n",
       "      <td>0.136328</td>\n",
       "      <td>-0.457451</td>\n",
       "      <td>0.761212</td>\n",
       "      <td>-0.209336</td>\n",
       "      <td>-0.560911</td>\n",
       "      <td>-0.142519</td>\n",
       "      <td>0.046505</td>\n",
       "      <td>-0.003000</td>\n",
       "      <td>0.074397</td>\n",
       "      <td>0.272916</td>\n",
       "      <td>0.051580</td>\n",
       "    </tr>\n",
       "    <tr>\n",
       "      <th>2</th>\n",
       "      <td>-0.039618</td>\n",
       "      <td>-0.168938</td>\n",
       "      <td>1.276705</td>\n",
       "      <td>1.218315</td>\n",
       "      <td>0.585413</td>\n",
       "      <td>-0.576899</td>\n",
       "      <td>-0.569876</td>\n",
       "      <td>0.495026</td>\n",
       "      <td>0.893469</td>\n",
       "      <td>0.629383</td>\n",
       "      <td>0.072877</td>\n",
       "      <td>-0.503310</td>\n",
       "      <td>-0.372507</td>\n",
       "      <td>-0.073251</td>\n",
       "      <td>-0.427546</td>\n",
       "      <td>0.024944</td>\n",
       "      <td>-0.506580</td>\n",
       "      <td>-0.122447</td>\n",
       "      <td>0.376039</td>\n",
       "      <td>0.122843</td>\n",
       "    </tr>\n",
       "    <tr>\n",
       "      <th>3</th>\n",
       "      <td>-0.371507</td>\n",
       "      <td>-0.748704</td>\n",
       "      <td>0.932177</td>\n",
       "      <td>0.140844</td>\n",
       "      <td>-0.276595</td>\n",
       "      <td>-1.704041</td>\n",
       "      <td>0.064920</td>\n",
       "      <td>-0.287729</td>\n",
       "      <td>-0.810603</td>\n",
       "      <td>0.759774</td>\n",
       "      <td>0.486091</td>\n",
       "      <td>-0.391246</td>\n",
       "      <td>-0.254622</td>\n",
       "      <td>1.010808</td>\n",
       "      <td>0.088264</td>\n",
       "      <td>0.369226</td>\n",
       "      <td>0.905018</td>\n",
       "      <td>-0.116001</td>\n",
       "      <td>-0.137112</td>\n",
       "      <td>0.029648</td>\n",
       "    </tr>\n",
       "    <tr>\n",
       "      <th>4</th>\n",
       "      <td>1.253309</td>\n",
       "      <td>0.846942</td>\n",
       "      <td>-1.474163</td>\n",
       "      <td>-0.929628</td>\n",
       "      <td>1.466951</td>\n",
       "      <td>0.273223</td>\n",
       "      <td>-0.408941</td>\n",
       "      <td>0.586668</td>\n",
       "      <td>0.290851</td>\n",
       "      <td>0.541789</td>\n",
       "      <td>0.666474</td>\n",
       "      <td>0.026010</td>\n",
       "      <td>0.818376</td>\n",
       "      <td>-0.227212</td>\n",
       "      <td>-0.248484</td>\n",
       "      <td>-0.068035</td>\n",
       "      <td>-0.029199</td>\n",
       "      <td>-0.034827</td>\n",
       "      <td>-0.265623</td>\n",
       "      <td>-0.198467</td>\n",
       "    </tr>\n",
       "  </tbody>\n",
       "</table>\n",
       "</div>"
      ],
      "text/plain": [
       "          0         1         2         3         4         5         6  \\\n",
       "0 -1.848807  0.324581 -2.077937  0.494536  0.803641  0.250787  0.305269   \n",
       "1  2.300971 -1.917717  0.552975 -1.266904 -1.852940  1.321341  0.003964   \n",
       "2 -0.039618 -0.168938  1.276705  1.218315  0.585413 -0.576899 -0.569876   \n",
       "3 -0.371507 -0.748704  0.932177  0.140844 -0.276595 -1.704041  0.064920   \n",
       "4  1.253309  0.846942 -1.474163 -0.929628  1.466951  0.273223 -0.408941   \n",
       "\n",
       "          7         8         9        10        11        12        13  \\\n",
       "0 -0.164801 -0.988253  0.087924 -0.431809 -0.117424  0.116159 -0.550176   \n",
       "1 -0.603158 -0.448361  0.136328 -0.457451  0.761212 -0.209336 -0.560911   \n",
       "2  0.495026  0.893469  0.629383  0.072877 -0.503310 -0.372507 -0.073251   \n",
       "3 -0.287729 -0.810603  0.759774  0.486091 -0.391246 -0.254622  1.010808   \n",
       "4  0.586668  0.290851  0.541789  0.666474  0.026010  0.818376 -0.227212   \n",
       "\n",
       "         14        15        16        17        18        19  \n",
       "0  0.016241  0.021276  0.170890 -0.129621  0.473504  0.376740  \n",
       "1 -0.142519  0.046505 -0.003000  0.074397  0.272916  0.051580  \n",
       "2 -0.427546  0.024944 -0.506580 -0.122447  0.376039  0.122843  \n",
       "3  0.088264  0.369226  0.905018 -0.116001 -0.137112  0.029648  \n",
       "4 -0.248484 -0.068035 -0.029199 -0.034827 -0.265623 -0.198467  "
      ]
     },
     "execution_count": 46,
     "metadata": {},
     "output_type": "execute_result"
    }
   ],
   "source": [
    "final_train_data = pd.DataFrame(df)\n",
    "final_train_data.head()"
   ]
  },
  {
   "cell_type": "markdown",
   "metadata": {},
   "source": [
    "# part C +D - Models"
   ]
  },
  {
   "cell_type": "markdown",
   "metadata": {},
   "source": [
    "The parameters of each model was chosen by the Grid Search function which is in tha appendix. "
   ]
  },
  {
   "cell_type": "code",
   "execution_count": 47,
   "metadata": {},
   "outputs": [],
   "source": [
    "clf_GNB = GaussianNB(priors = None) "
   ]
  },
  {
   "cell_type": "code",
   "execution_count": 48,
   "metadata": {},
   "outputs": [],
   "source": [
    "clf_Knn = neighbors.KNeighborsClassifier(n_neighbors = 150, #grid_search\n",
    "                                weights = \"distance\", \n",
    "                                metric = \"euclidean\",\n",
    "                                algorithm = \"brute\") "
   ]
  },
  {
   "cell_type": "code",
   "execution_count": 49,
   "metadata": {},
   "outputs": [],
   "source": [
    "clf_NN = MLPClassifier( activation = \"logistic\",\n",
    "                        hidden_layer_sizes = (50, 50), \n",
    "                        alpha = 0.01, \n",
    "                        batch_size = 50, \n",
    "                        solver = \"sgd\", \n",
    "                        learning_rate = \"constant\", \n",
    "                        learning_rate_init = 0.0015,\n",
    "                        power_t = 0.5, \n",
    "                        momentum = 0.9, \n",
    "                        nesterovs_momentum = False, \n",
    "                        early_stopping = False, \n",
    "                        tol = 1e-4, \n",
    "                        warm_start = False, \n",
    "                        max_iter = 1500)"
   ]
  },
  {
   "cell_type": "code",
   "execution_count": 50,
   "metadata": {},
   "outputs": [],
   "source": [
    "clf_DT = DecisionTreeClassifier(criterion = 'entropy',\n",
    "                             splitter ='best',\n",
    "                             max_depth = 6, \n",
    "                             min_samples_split = 2,\n",
    "                             max_features = 'sqrt', \n",
    "                             max_leaf_nodes = 7,\n",
    "                             min_impurity_decrease = 1e-10)"
   ]
  },
  {
   "cell_type": "code",
   "execution_count": 54,
   "metadata": {},
   "outputs": [],
   "source": [
    "global aucs_train, aucs_valid\n",
    "aucs_train = {}\n",
    "aucs_valid = {}\n",
    "\n",
    "def KFold_func(k, final_train_data, new_lable_only, clf):\n",
    "    aucs_valid_fold = []\n",
    "    aucs_train_fold = []\n",
    "    \n",
    "    k_fold = KFold(k, random_state = None, shuffle = False) # Creating the KFold object\n",
    "    i = 1 \n",
    "    for train_index,validation_index in k_fold.split(final_train_data):\n",
    "        X_train = final_train_data.iloc[train_index]\n",
    "        X_validation = final_train_data.iloc[validation_index]\n",
    "        y_train = new_lable_only.iloc[train_index]\n",
    "        y_validation = new_lable_only.iloc[validation_index]\n",
    "                \n",
    "        y_prob_t = clf.fit(X_train, y_train).predict_proba(X_train)            \n",
    "        y_prob_v = clf.fit(X_train, y_train).predict_proba(X_validation)            \n",
    "        \n",
    "        fpr_t, tpr_t, t_t = roc_curve(y_train, y_prob_t[:, 1])\n",
    "        fpr_v, tpr_v, t_v = roc_curve(y_validation, y_prob_v[:, 1])\n",
    "        \n",
    "        roc_auc_v = auc(fpr_v, tpr_v)\n",
    "        roc_auc_t = auc(fpr_t, tpr_t)\n",
    "        \n",
    "        aucs_valid_fold.append(roc_auc_v)\n",
    "        aucs_train_fold.append(roc_auc_t)\n",
    "        \n",
    "        plt.plot(fpr_v, tpr_v, lw=2, alpha=0.3, label='ROC fold %d (AUC = %0.2f)' % (i, roc_auc_v))\n",
    "        i += 1\n",
    "    \n",
    "    # ROC GRAPH\n",
    "    plt.xlabel('False Positive Rate')\n",
    "    plt.ylabel('True Positive Rate')\n",
    "    plt.title('ROC')\n",
    "    plt.legend(loc = \"lower right\")\n",
    "    plt.show() \n",
    "    \n",
    "    aucs_train[clf] = np.mean(aucs_train_fold)\n",
    "    aucs_valid[clf] = np.mean(aucs_valid_fold)\n",
    "    \n",
    "    return \"The average validation AUC for the \" + str(clf).split(\"(\")[0] + \" model is \" + str(round(np.mean(aucs_valid_fold),2)), \"The average train AUC for the \" + str(clf).split(\"(\")[0] + \" model is \" + str(round(np.mean(aucs_train_fold),2))\n",
    "           "
   ]
  },
  {
   "cell_type": "code",
   "execution_count": 55,
   "metadata": {},
   "outputs": [
    {
     "data": {
      "image/png": "[encoded data removed]",
      "text/plain": [
       "<Figure size 432x288 with 1 Axes>"
      ]
     },
     "metadata": {},
     "output_type": "display_data"
    },
    {
     "data": {
      "text/plain": [
       "('The average validation AUC for the GaussianNB model is 0.82',\n",
       " 'The average train AUC for the GaussianNB model is 0.82')"
      ]
     },
     "execution_count": 55,
     "metadata": {},
     "output_type": "execute_result"
    }
   ],
   "source": [
    "KFold_func(5, final_train_data, lable_only,clf_GNB)"
   ]
  },
  {
   "cell_type": "code",
   "execution_count": 56,
   "metadata": {},
   "outputs": [
    {
     "data": {
      "image/png": "[encoded data removed]",
      "text/plain": [
       "<Figure size 432x288 with 1 Axes>"
      ]
     },
     "metadata": {},
     "output_type": "display_data"
    },
    {
     "data": {
      "text/plain": [
       "('The average validation AUC for the KNeighborsClassifier model is 0.84',\n",
       " 'The average train AUC for the KNeighborsClassifier model is 1.0')"
      ]
     },
     "execution_count": 56,
     "metadata": {},
     "output_type": "execute_result"
    }
   ],
   "source": [
    "KFold_func(5, final_train_data, lable_only,clf_Knn)"
   ]
  },
  {
   "cell_type": "code",
   "execution_count": 57,
   "metadata": {},
   "outputs": [
    {
     "data": {
      "image/png": "[encoded data removed]",
      "text/plain": [
       "<Figure size 432x288 with 1 Axes>"
      ]
     },
     "metadata": {},
     "output_type": "display_data"
    },
    {
     "data": {
      "text/plain": [
       "('The average validation AUC for the MLPClassifier model is 0.85',\n",
       " 'The average train AUC for the MLPClassifier model is 0.85')"
      ]
     },
     "execution_count": 57,
     "metadata": {},
     "output_type": "execute_result"
    }
   ],
   "source": [
    "KFold_func(5, final_train_data, lable_only,clf_NN)"
   ]
  },
  {
   "cell_type": "code",
   "execution_count": 60,
   "metadata": {
    "scrolled": true
   },
   "outputs": [
    {
     "data": {
      "image/png": "[encoded data removed]",
      "text/plain": [
       "<Figure size 432x288 with 1 Axes>"
      ]
     },
     "metadata": {},
     "output_type": "display_data"
    },
    {
     "data": {
      "text/plain": [
       "('The average validation AUC for the DecisionTreeClassifier model is 0.67',\n",
       " 'The average train AUC for the DecisionTreeClassifier model is 0.71')"
      ]
     },
     "execution_count": 60,
     "metadata": {},
     "output_type": "execute_result"
    }
   ],
   "source": [
    "KFold_func(5, final_train_data, lable_only,clf_DT)"
   ]
  },
  {
   "cell_type": "markdown",
   "metadata": {},
   "source": [
    "Now we will show Confusion Matrix to the Gaussian Naive Bayes model"
   ]
  },
  {
   "cell_type": "code",
   "execution_count": 72,
   "metadata": {},
   "outputs": [],
   "source": [
    "def confusion_mat(x, y):\n",
    "    x_train, x_validation, y_train, y_validation = train_test_split(x, y, test_size = 0.33, random_state = 42)\n",
    "    clf = GaussianNB(priors = None) \n",
    "    clf.fit(x_train, y_train)\n",
    "    y_predicted = clf.predict(x_validation)\n",
    "    cm = confusion_matrix(y_validation, y_predicted)\n",
    "    TN, FP, FN, TP = cm.ravel()\n",
    "    confusion_mat = np.array([[TP, FP],[FN, TN]])\n",
    "    return TN, FP, FN, TP, confusion_mat"
   ]
  },
  {
   "cell_type": "code",
   "execution_count": 73,
   "metadata": {},
   "outputs": [
    {
     "name": "stdout",
     "output_type": "stream",
     "text": [
      "[[ 317  198]\n",
      " [ 767 5081]]\n"
     ]
    }
   ],
   "source": [
    "TN, FP, FN, TP, con_mat = confusion_mat(final_train_data, lable_only)\n",
    "print(con_mat)"
   ]
  },
  {
   "cell_type": "code",
   "execution_count": 68,
   "metadata": {},
   "outputs": [],
   "source": [
    "#confusion_mat_fig = plt.figure(7)\n",
    "#plt.figure(figsize = (5,3)) \n",
    "#sns.heatmap(con_mat,annot=True)\n",
    "#confusion_mat_fig.show()"
   ]
  },
  {
   "cell_type": "markdown",
   "metadata": {},
   "source": [
    "Our best model according to the AUC is the ANN model (MLP)!\n",
    "\n",
    "Now, we check the Performance difference between the train set and the validation set of all the models, and check Overfitting"
   ]
  },
  {
   "cell_type": "code",
   "execution_count": 78,
   "metadata": {},
   "outputs": [
    {
     "name": "stdout",
     "output_type": "stream",
     "text": [
      "The KNeighborsClassifier model is overfitting\n"
     ]
    }
   ],
   "source": [
    "for i in aucs_valid:\n",
    "    different = aucs_train[i] - aucs_valid[i]\n",
    "    if different > 0.07:\n",
    "        print(\"The \" + str(i).split(\"(\")[0] + \" model is overfitting\")"
   ]
  },
  {
   "cell_type": "markdown",
   "metadata": {},
   "source": [
    "#  Part E - Prediction"
   ]
  },
  {
   "cell_type": "markdown",
   "metadata": {},
   "source": [
    "Now , we prepare the test set"
   ]
  },
  {
   "cell_type": "code",
   "execution_count": 684,
   "metadata": {},
   "outputs": [],
   "source": [
    "test = pd.read_csv('test_without_target.csv')"
   ]
  },
  {
   "cell_type": "code",
   "execution_count": 685,
   "metadata": {},
   "outputs": [
    {
     "data": {
      "text/html": [
       "<div>\n",
       "<style scoped>\n",
       "    .dataframe tbody tr th:only-of-type {\n",
       "        vertical-align: middle;\n",
       "    }\n",
       "\n",
       "    .dataframe tbody tr th {\n",
       "        vertical-align: top;\n",
       "    }\n",
       "\n",
       "    .dataframe thead th {\n",
       "        text-align: right;\n",
       "    }\n",
       "</style>\n",
       "<table border=\"1\" class=\"dataframe\">\n",
       "  <thead>\n",
       "    <tr style=\"text-align: right;\">\n",
       "      <th></th>\n",
       "      <th>Unnamed: 0</th>\n",
       "      <th>0</th>\n",
       "      <th>1</th>\n",
       "      <th>2</th>\n",
       "      <th>3</th>\n",
       "      <th>4</th>\n",
       "      <th>5</th>\n",
       "      <th>6</th>\n",
       "      <th>7</th>\n",
       "      <th>8</th>\n",
       "      <th>...</th>\n",
       "      <th>11</th>\n",
       "      <th>12</th>\n",
       "      <th>13</th>\n",
       "      <th>14</th>\n",
       "      <th>15</th>\n",
       "      <th>16</th>\n",
       "      <th>17</th>\n",
       "      <th>18</th>\n",
       "      <th>19</th>\n",
       "      <th>20</th>\n",
       "    </tr>\n",
       "  </thead>\n",
       "  <tbody>\n",
       "    <tr>\n",
       "      <th>0</th>\n",
       "      <td>0</td>\n",
       "      <td>1.0</td>\n",
       "      <td>a</td>\n",
       "      <td>-1d</td>\n",
       "      <td>4.385878</td>\n",
       "      <td>5.0</td>\n",
       "      <td>7.231414</td>\n",
       "      <td>D</td>\n",
       "      <td>70.0</td>\n",
       "      <td>0</td>\n",
       "      <td>...</td>\n",
       "      <td>146.606083</td>\n",
       "      <td>n</td>\n",
       "      <td>1.0</td>\n",
       "      <td>118.0</td>\n",
       "      <td>0.0</td>\n",
       "      <td>D</td>\n",
       "      <td>4.284457</td>\n",
       "      <td>a7</td>\n",
       "      <td>NaN</td>\n",
       "      <td>33.679747</td>\n",
       "    </tr>\n",
       "    <tr>\n",
       "      <th>1</th>\n",
       "      <td>1</td>\n",
       "      <td>1.0</td>\n",
       "      <td>unknown</td>\n",
       "      <td>-1d</td>\n",
       "      <td>1.235237</td>\n",
       "      <td>2486.0</td>\n",
       "      <td>4.979543</td>\n",
       "      <td>D</td>\n",
       "      <td>290.0</td>\n",
       "      <td>1</td>\n",
       "      <td>...</td>\n",
       "      <td>461.061120</td>\n",
       "      <td>n</td>\n",
       "      <td>2.0</td>\n",
       "      <td>733.0</td>\n",
       "      <td>0.0</td>\n",
       "      <td>S</td>\n",
       "      <td>2.664354</td>\n",
       "      <td>a5</td>\n",
       "      <td>NaN</td>\n",
       "      <td>36.426381</td>\n",
       "    </tr>\n",
       "    <tr>\n",
       "      <th>2</th>\n",
       "      <td>2</td>\n",
       "      <td>1.0</td>\n",
       "      <td>a</td>\n",
       "      <td>90d</td>\n",
       "      <td>3.367264</td>\n",
       "      <td>205.0</td>\n",
       "      <td>7.118272</td>\n",
       "      <td>F</td>\n",
       "      <td>40.0</td>\n",
       "      <td>0</td>\n",
       "      <td>...</td>\n",
       "      <td>274.415273</td>\n",
       "      <td>n</td>\n",
       "      <td>2.0</td>\n",
       "      <td>NaN</td>\n",
       "      <td>0.0</td>\n",
       "      <td>M</td>\n",
       "      <td>3.948146</td>\n",
       "      <td>a5</td>\n",
       "      <td>B</td>\n",
       "      <td>5.375061</td>\n",
       "    </tr>\n",
       "    <tr>\n",
       "      <th>3</th>\n",
       "      <td>3</td>\n",
       "      <td>1.0</td>\n",
       "      <td>a</td>\n",
       "      <td>112d</td>\n",
       "      <td>-3.398645</td>\n",
       "      <td>2273.0</td>\n",
       "      <td>6.986870</td>\n",
       "      <td>D</td>\n",
       "      <td>180.0</td>\n",
       "      <td>1</td>\n",
       "      <td>...</td>\n",
       "      <td>76.330357</td>\n",
       "      <td>n</td>\n",
       "      <td>1.0</td>\n",
       "      <td>NaN</td>\n",
       "      <td>0.0</td>\n",
       "      <td>M</td>\n",
       "      <td>3.743150</td>\n",
       "      <td>a11</td>\n",
       "      <td>A</td>\n",
       "      <td>14.739503</td>\n",
       "    </tr>\n",
       "    <tr>\n",
       "      <th>4</th>\n",
       "      <td>4</td>\n",
       "      <td>6.0</td>\n",
       "      <td>a</td>\n",
       "      <td>-1d</td>\n",
       "      <td>1.358163</td>\n",
       "      <td>2300.0</td>\n",
       "      <td>6.305195</td>\n",
       "      <td>B</td>\n",
       "      <td>80.0</td>\n",
       "      <td>0</td>\n",
       "      <td>...</td>\n",
       "      <td>41.221638</td>\n",
       "      <td>n</td>\n",
       "      <td>2.0</td>\n",
       "      <td>160.0</td>\n",
       "      <td>0.0</td>\n",
       "      <td>S</td>\n",
       "      <td>3.674207</td>\n",
       "      <td>a8</td>\n",
       "      <td>NaN</td>\n",
       "      <td>-2.064077</td>\n",
       "    </tr>\n",
       "  </tbody>\n",
       "</table>\n",
       "<p>5 rows × 22 columns</p>\n",
       "</div>"
      ],
      "text/plain": [
       "   Unnamed: 0    0        1     2         3       4         5  6      7  8  \\\n",
       "0           0  1.0        a   -1d  4.385878     5.0  7.231414  D   70.0  0   \n",
       "1           1  1.0  unknown   -1d  1.235237  2486.0  4.979543  D  290.0  1   \n",
       "2           2  1.0        a   90d  3.367264   205.0  7.118272  F   40.0  0   \n",
       "3           3  1.0        a  112d -3.398645  2273.0  6.986870  D  180.0  1   \n",
       "4           4  6.0        a   -1d  1.358163  2300.0  6.305195  B   80.0  0   \n",
       "\n",
       "   ...          11  12   13     14   15  16        17   18   19         20  \n",
       "0  ...  146.606083   n  1.0  118.0  0.0   D  4.284457   a7  NaN  33.679747  \n",
       "1  ...  461.061120   n  2.0  733.0  0.0   S  2.664354   a5  NaN  36.426381  \n",
       "2  ...  274.415273   n  2.0    NaN  0.0   M  3.948146   a5    B   5.375061  \n",
       "3  ...   76.330357   n  1.0    NaN  0.0   M  3.743150  a11    A  14.739503  \n",
       "4  ...   41.221638   n  2.0  160.0  0.0   S  3.674207   a8  NaN  -2.064077  \n",
       "\n",
       "[5 rows x 22 columns]"
      ]
     },
     "execution_count": 685,
     "metadata": {},
     "output_type": "execute_result"
    }
   ],
   "source": [
    "test.head()"
   ]
  },
  {
   "cell_type": "code",
   "execution_count": 686,
   "metadata": {},
   "outputs": [],
   "source": [
    "test = test.drop('Unnamed: 0',axis=1)"
   ]
  },
  {
   "cell_type": "code",
   "execution_count": 687,
   "metadata": {},
   "outputs": [],
   "source": [
    "test = unreadable_values(test)"
   ]
  },
  {
   "cell_type": "code",
   "execution_count": 688,
   "metadata": {},
   "outputs": [],
   "source": [
    "test=drop_un_relevant_columns(test)"
   ]
  },
  {
   "cell_type": "code",
   "execution_count": 689,
   "metadata": {},
   "outputs": [],
   "source": [
    "test = scailing_X(test)"
   ]
  },
  {
   "cell_type": "code",
   "execution_count": 690,
   "metadata": {},
   "outputs": [],
   "source": [
    "test = fill_average_info(test)"
   ]
  },
  {
   "cell_type": "code",
   "execution_count": 691,
   "metadata": {},
   "outputs": [],
   "source": [
    "test = fill_in_common_values(test)"
   ]
  },
  {
   "cell_type": "code",
   "execution_count": 692,
   "metadata": {},
   "outputs": [],
   "source": [
    "test = binary_columns_transform(test)"
   ]
  },
  {
   "cell_type": "code",
   "execution_count": 693,
   "metadata": {},
   "outputs": [],
   "source": [
    "test = multi_varient_columns(test)"
   ]
  },
  {
   "cell_type": "code",
   "execution_count": 694,
   "metadata": {},
   "outputs": [],
   "source": [
    "test , count = Pca_df(test)"
   ]
  },
  {
   "cell_type": "code",
   "execution_count": 695,
   "metadata": {},
   "outputs": [],
   "source": [
    "test = pd.DataFrame(test)"
   ]
  },
  {
   "cell_type": "code",
   "execution_count": 717,
   "metadata": {},
   "outputs": [
    {
     "name": "stdout",
     "output_type": "stream",
     "text": [
      "DecisionTreeClassifier(criterion='entropy', max_depth=6, max_features='sqrt',\n",
      "                       max_leaf_nodes=7, min_impurity_decrease=1e-10)\n"
     ]
    }
   ],
   "source": [
    "print(clf_DT)"
   ]
  },
  {
   "cell_type": "code",
   "execution_count": 744,
   "metadata": {},
   "outputs": [
    {
     "name": "stdout",
     "output_type": "stream",
     "text": [
      "KNeighborsClassifier(algorithm='brute', metric='euclidean', n_neighbors=150,\n",
      "                     weights='distance')\n"
     ]
    }
   ],
   "source": [
    "print(clf_Knn)"
   ]
  },
  {
   "cell_type": "code",
   "execution_count": 757,
   "metadata": {},
   "outputs": [],
   "source": [
    "# predict the test values by using the NN model \n",
    "y_predicted_proba = clf_NN.predict_proba(test)\n",
    "y_predicted = clf_NN.predict(test)\n",
    "# convert to dataframe and export to csv file\n",
    "#y_predicted_proba = y_predicted_proba[:,1]\n",
    "y_predicted = pd.DataFrame(y_predicted_proba,y_predicted,columns=['lable','pred_proba'])\n",
    "y_predicted.to_csv('submission_group_23.csv')"
   ]
  },
  {
   "cell_type": "markdown",
   "metadata": {},
   "source": [
    "#  Appendix - Grid Search"
   ]
  },
  {
   "cell_type": "code",
   "execution_count": null,
   "metadata": {},
   "outputs": [],
   "source": [
    "'''###\n",
    "# KNearestNeighbour:\n",
    "parametersOptions = {'n_neighbors' : [13, 5, 150], \n",
    "                      'weights' : [\"uniform\", \"distance\"], \n",
    "                      'metric' : [\"euclidean\", \"minkowski\"]}\n",
    "GS = GridSearchCV(neighbors.KNeighborsClassifier(), parametersOptions, cv=3, scoring='roc_auc')\n",
    "GS.fit(final_train_data, new_lable_only)\n",
    "print ('K Nearest Neighbour chosen parameters (recieved best AUC): {}'.format(GS.best_params_))\n",
    "\n",
    "\n",
    "# DecisionTree:\n",
    "parametersOptions = {'criterion' : [\"gini\", \"entropy\"],\n",
    "                      'max_depth' : [(5), (6)],\n",
    "                      'min_samples_split' : [(1.0), (2)],\n",
    "                      'max_features' : [\"sqrt\", \"log2\", \"auto\"],\n",
    "                      'min_impurity_decrease' : [(0), (1e-7), (1e-10)]} \n",
    "GS = GridSearchCV(DecisionTreeClassifier(), parametersOptions, cv=3, scoring='roc_auc')\n",
    "GS.fit(final_train_data, new_lable_only)\n",
    "print ('Decision Tree chosen parameters (recieved best AUC): {}'.format(GS.best_params_))\n",
    "\n",
    "\n",
    "# ANN:\n",
    "parametersOptions = {'activation' : [\"logistic\", \"relu\"], \n",
    "                     'hidden_layer_sizes' : [(100,), (50, 50), (20, 20, 10, 10, 10)],\n",
    "                     'batch_size' : [10, 50],\n",
    "                     'learning_rate_init' : [\"constant\"], #In some of the runs we saw that the network got stuck on a local min, for this reason we enlearge the defualt momentum\n",
    "                     'max_iter' : [1500]} \n",
    "GS = GridSearchCV(MLPClassifier(), parametersOptions, cv=3, scoring='roc_auc')\n",
    "GS.fit(final_train_data, new_lable_only)\n",
    "print ('Neural Network chosen parameters (recieved best AUC): {}'.format(GS.best_params_))\n",
    "\n",
    "###\n",
    "'''"
   ]
  }
 ],
 "metadata": {
  "kernelspec": {
   "display_name": "Python 3",
   "language": "python",
   "name": "python3"
  },
  "language_info": {
   "codemirror_mode": {
    "name": "ipython",
    "version": 3
   },
   "file_extension": ".py",
   "mimetype": "text/x-python",
   "name": "python",
   "nbconvert_exporter": "python",
   "pygments_lexer": "ipython3",
   "version": "3.8.3"
  }
 },
 "nbformat": 4,
 "nbformat_minor": 4
}
